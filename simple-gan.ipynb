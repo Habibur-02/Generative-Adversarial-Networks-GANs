{
 "cells": [
  {
   "cell_type": "code",
   "execution_count": 1,
   "id": "b79a1974",
   "metadata": {
    "_cell_guid": "b1076dfc-b9ad-4769-8c92-a6c4dae69d19",
    "_uuid": "8f2839f25d086af736a60e9eeb907d3b93b6e0e5",
    "execution": {
     "iopub.execute_input": "2025-08-05T16:26:34.901872Z",
     "iopub.status.busy": "2025-08-05T16:26:34.901467Z",
     "iopub.status.idle": "2025-08-05T16:26:36.904531Z",
     "shell.execute_reply": "2025-08-05T16:26:36.903598Z"
    },
    "papermill": {
     "duration": 2.009255,
     "end_time": "2025-08-05T16:26:36.906511",
     "exception": false,
     "start_time": "2025-08-05T16:26:34.897256",
     "status": "completed"
    },
    "tags": []
   },
   "outputs": [],
   "source": [
    "# This Python 3 environment comes with many helpful analytics libraries installed\n",
    "# It is defined by the kaggle/python Docker image: https://github.com/kaggle/docker-python\n",
    "# For example, here's several helpful packages to load\n",
    "\n",
    "import numpy as np # linear algebra\n",
    "import pandas as pd # data processing, CSV file I/O (e.g. pd.read_csv)\n",
    "\n",
    "# Input data files are available in the read-only \"../input/\" directory\n",
    "# For example, running this (by clicking run or pressing Shift+Enter) will list all files under the input directory\n",
    "\n",
    "import os\n",
    "for dirname, _, filenames in os.walk('/kaggle/input'):\n",
    "    for filename in filenames:\n",
    "        print(os.path.join(dirname, filename))\n",
    "\n",
    "# You can write up to 20GB to the current directory (/kaggle/working/) that gets preserved as output when you create a version using \"Save & Run All\" \n",
    "# You can also write temporary files to /kaggle/temp/, but they won't be saved outside of the current session"
   ]
  },
  {
   "cell_type": "code",
   "execution_count": 2,
   "id": "551ce734",
   "metadata": {
    "execution": {
     "iopub.execute_input": "2025-08-05T16:26:36.913865Z",
     "iopub.status.busy": "2025-08-05T16:26:36.913059Z",
     "iopub.status.idle": "2025-08-05T16:29:09.224978Z",
     "shell.execute_reply": "2025-08-05T16:29:09.223846Z"
    },
    "papermill": {
     "duration": 152.317249,
     "end_time": "2025-08-05T16:29:09.226810",
     "exception": false,
     "start_time": "2025-08-05T16:26:36.909561",
     "status": "completed"
    },
    "tags": []
   },
   "outputs": [
    {
     "name": "stderr",
     "output_type": "stream",
     "text": [
      "100%|██████████| 9.91M/9.91M [00:00<00:00, 60.1MB/s]\n",
      "100%|██████████| 28.9k/28.9k [00:00<00:00, 1.70MB/s]\n",
      "100%|██████████| 1.65M/1.65M [00:00<00:00, 14.7MB/s]\n",
      "100%|██████████| 4.54k/4.54k [00:00<00:00, 6.10MB/s]\n"
     ]
    },
    {
     "name": "stdout",
     "output_type": "stream",
     "text": [
      "[Epoch 0/5] [Batch 0/938] [D loss: 1.3919553756713867] [G loss: 0.6825375556945801]\n",
      "[Epoch 0/5] [Batch 200/938] [D loss: 0.5505620241165161] [G loss: 2.2923526763916016]\n",
      "[Epoch 0/5] [Batch 400/938] [D loss: 0.09082544595003128] [G loss: 4.3156023025512695]\n",
      "[Epoch 0/5] [Batch 600/938] [D loss: 0.8928648233413696] [G loss: 1.957014560699463]\n",
      "[Epoch 0/5] [Batch 800/938] [D loss: 0.3390049934387207] [G loss: 2.895840883255005]\n",
      "[Epoch 1/5] [Batch 0/938] [D loss: 0.4340571165084839] [G loss: 3.332082509994507]\n",
      "[Epoch 1/5] [Batch 200/938] [D loss: 0.7202643156051636] [G loss: 1.9506603479385376]\n",
      "[Epoch 1/5] [Batch 400/938] [D loss: 0.599041759967804] [G loss: 4.4672393798828125]\n",
      "[Epoch 1/5] [Batch 600/938] [D loss: 1.322713851928711] [G loss: 1.6873303651809692]\n",
      "[Epoch 1/5] [Batch 800/938] [D loss: 0.2985282242298126] [G loss: 3.277575969696045]\n",
      "[Epoch 2/5] [Batch 0/938] [D loss: 1.0805976390838623] [G loss: 1.3734402656555176]\n",
      "[Epoch 2/5] [Batch 200/938] [D loss: 1.285544514656067] [G loss: 1.8089699745178223]\n",
      "[Epoch 2/5] [Batch 400/938] [D loss: 0.7251688241958618] [G loss: 2.540041446685791]\n",
      "[Epoch 2/5] [Batch 600/938] [D loss: 0.5235472917556763] [G loss: 2.4975779056549072]\n",
      "[Epoch 2/5] [Batch 800/938] [D loss: 0.5217889547348022] [G loss: 3.081786870956421]\n",
      "[Epoch 3/5] [Batch 0/938] [D loss: 1.3092243671417236] [G loss: 1.855364441871643]\n",
      "[Epoch 3/5] [Batch 200/938] [D loss: 0.6842544078826904] [G loss: 2.5525708198547363]\n",
      "[Epoch 3/5] [Batch 400/938] [D loss: 1.311948299407959] [G loss: 1.3973292112350464]\n",
      "[Epoch 3/5] [Batch 600/938] [D loss: 0.3883272409439087] [G loss: 2.4135594367980957]\n",
      "[Epoch 3/5] [Batch 800/938] [D loss: 0.36461341381073] [G loss: 3.2591328620910645]\n",
      "[Epoch 4/5] [Batch 0/938] [D loss: 0.7800312042236328] [G loss: 3.145519733428955]\n",
      "[Epoch 4/5] [Batch 200/938] [D loss: 0.2780114412307739] [G loss: 4.00257682800293]\n",
      "[Epoch 4/5] [Batch 400/938] [D loss: 0.38834041357040405] [G loss: 2.2909791469573975]\n",
      "[Epoch 4/5] [Batch 600/938] [D loss: 0.40792083740234375] [G loss: 2.683523654937744]\n",
      "[Epoch 4/5] [Batch 800/938] [D loss: 1.290531873703003] [G loss: 1.1636898517608643]\n"
     ]
    }
   ],
   "source": [
    "import torch\n",
    "import torch.nn as nn\n",
    "import torch.optim as optim\n",
    "from torchvision import datasets, transforms\n",
    "from torch.utils.data import DataLoader\n",
    "import matplotlib.pyplot as plt\n",
    "\n",
    "# হাইপারপ্যারামিটার\n",
    "latent_dim = 100\n",
    "img_size = 28 * 28\n",
    "batch_size = 64\n",
    "epochs = 5\n",
    "lr = 0.0002\n",
    "\n",
    "# ডেটালোডার (MNIST)\n",
    "transform = transforms.Compose([\n",
    "    transforms.ToTensor(),\n",
    "    transforms.Normalize((0.5,), (0.5,))\n",
    "])\n",
    "train_dataset = datasets.MNIST(root='./data', train=True, download=True, transform=transform)\n",
    "train_loader = DataLoader(train_dataset, batch_size=batch_size, shuffle=True)\n",
    "\n",
    "\n",
    "\n",
    "# জেনারেটর নেটওয়ার্ক\n",
    "class Generator(nn.Module):\n",
    "    def __init__(self):\n",
    "        super(Generator, self).__init__()\n",
    "        self.model = nn.Sequential(\n",
    "            nn.Linear(latent_dim, 256),\n",
    "            nn.LeakyReLU(0.2),\n",
    "            nn.Linear(256, 512),\n",
    "            nn.LeakyReLU(0.2),\n",
    "            nn.Linear(512, img_size),\n",
    "            nn.Tanh()\n",
    "        )\n",
    "    \n",
    "    def forward(self, z):\n",
    "        return self.model(z)\n",
    "\n",
    "# ডিস্ক্রিমিনেটর নেটওয়ার্ক\n",
    "class Discriminator(nn.Module):\n",
    "    def __init__(self):\n",
    "        super(Discriminator, self).__init__()\n",
    "        self.model = nn.Sequential(\n",
    "            nn.Linear(img_size, 512),\n",
    "            nn.LeakyReLU(0.2),\n",
    "            nn.Linear(512, 256),\n",
    "            nn.LeakyReLU(0.2),\n",
    "            nn.Linear(256, 1),\n",
    "            nn.Sigmoid()\n",
    "        )\n",
    "    \n",
    "    def forward(self, img):\n",
    "        return self.model(img.view(img.size(0), -1))\n",
    "\n",
    "# মডেল, অপ্টিমাইজার, লস\n",
    "device = torch.device(\"cuda\" if torch.cuda.is_available() else \"cpu\")\n",
    "G = Generator().to(device)\n",
    "D = Discriminator().to(device)\n",
    "optimizer_G = optim.Adam(G.parameters(), lr=lr)\n",
    "optimizer_D = optim.Adam(D.parameters(), lr=lr)\n",
    "loss_fn = nn.BCELoss()\n",
    "\n",
    "# ট্রেনিং লুপ\n",
    "for epoch in range(epochs):\n",
    "    for i, (imgs, _) in enumerate(train_loader):\n",
    "        # আসল এবং নকল লেবেল\n",
    "        real_imgs = imgs.to(device)\n",
    "        real_labels = torch.ones(imgs.size(0), 1).to(device)\n",
    "        fake_labels = torch.zeros(imgs.size(0), 1).to(device)\n",
    "        \n",
    "        # ====== ডিস্ক্রিমিনেটর ট্রেন ======\n",
    "        optimizer_D.zero_grad()\n",
    "        \n",
    "        # আসল ইমেজের লস\n",
    "        real_output = D(real_imgs)\n",
    "        d_loss_real = loss_fn(real_output, real_labels)\n",
    "        \n",
    "        # নকল ইমেজ জেনারেট\n",
    "        z = torch.randn(imgs.size(0), latent_dim).to(device)\n",
    "        fake_imgs = G(z)\n",
    "        \n",
    "        # নকল ইমেজের লস \n",
    "        fake_output = D(fake_imgs.detach())\n",
    "        d_loss_fake = loss_fn(fake_output, fake_labels)\n",
    "        \n",
    "        # মোট লস এবং ব্যাকপ্রপ \n",
    "        d_loss = d_loss_real + d_loss_fake\n",
    "        d_loss.backward()\n",
    "        optimizer_D.step()\n",
    "        \n",
    "        # ====== জেনারেটর ট্রেন ====== \n",
    "        optimizer_G.zero_grad()\n",
    "        \n",
    "        # জেনারেটরের লস\n",
    "        validity = D(fake_imgs)\n",
    "        g_loss = loss_fn(validity, real_labels)\n",
    "        \n",
    "        g_loss.backward()\n",
    "        optimizer_G.step()\n",
    "        \n",
    "        # প্রোগ্রেস প্রিন্ট \n",
    "        if i % 200 == 0:\n",
    "            print(f\"[Epoch {epoch}/{epochs}] [Batch {i}/{len(train_loader)}] \"\n",
    "                  f\"[D loss: {d_loss.item()}] [G loss: {g_loss.item()}]\")\n",
    "    \n",
    "    # জেনারেট করা ইমেজ সেভ \n",
    "    with torch.no_grad():\n",
    "        sample_z = torch.randn(16, latent_dim).to(device)\n",
    "        generated = G(sample_z).cpu()\n",
    "        plt.figure(figsize=(4, 4))\n",
    "        for i in range(16):\n",
    "            plt.subplot(4, 4, i+1)\n",
    "            plt.imshow(generated[i].view(28, 28).numpy(), cmap='gray')\n",
    "            plt.axis('off')\n",
    "        plt.savefig(f\"gan_output_epoch_{epoch}.png\")\n",
    "        plt.close()\n"
   ]
  },
  {
   "cell_type": "code",
   "execution_count": 3,
   "id": "fd28e6ac",
   "metadata": {
    "execution": {
     "iopub.execute_input": "2025-08-05T16:29:09.236964Z",
     "iopub.status.busy": "2025-08-05T16:29:09.236480Z",
     "iopub.status.idle": "2025-08-05T16:29:09.241652Z",
     "shell.execute_reply": "2025-08-05T16:29:09.240873Z"
    },
    "papermill": {
     "duration": 0.011951,
     "end_time": "2025-08-05T16:29:09.243091",
     "exception": false,
     "start_time": "2025-08-05T16:29:09.231140",
     "status": "completed"
    },
    "tags": []
   },
   "outputs": [],
   "source": [
    "import torch\n",
    "import torch.nn as nn\n",
    "import torch.optim as optim\n",
    "from torchvision import datasets, transforms\n",
    "from torch.utils.data import DataLoader\n",
    "import matplotlib.pyplot as plt"
   ]
  },
  {
   "cell_type": "code",
   "execution_count": 4,
   "id": "e43c97f0",
   "metadata": {
    "execution": {
     "iopub.execute_input": "2025-08-05T16:29:09.252935Z",
     "iopub.status.busy": "2025-08-05T16:29:09.252527Z",
     "iopub.status.idle": "2025-08-05T16:29:09.394630Z",
     "shell.execute_reply": "2025-08-05T16:29:09.393876Z"
    },
    "papermill": {
     "duration": 0.149047,
     "end_time": "2025-08-05T16:29:09.396349",
     "exception": false,
     "start_time": "2025-08-05T16:29:09.247302",
     "status": "completed"
    },
    "tags": []
   },
   "outputs": [],
   "source": [
    "# হাইপারপ্যারামিটার\n",
    "latent_dim = 100\n",
    "img_size = 28 * 28\n",
    "batch_size = 64\n",
    "epochs = 5\n",
    "lr = 0.0002\n",
    "\n",
    "# ডেটালোডার (MNIST)\n",
    "transform = transforms.Compose([\n",
    "    transforms.ToTensor(),\n",
    "    transforms.Normalize((0.5,), (0.5,))\n",
    "])\n",
    "train_dataset = datasets.MNIST(root='./data', train=True, download=True, transform=transform)\n",
    "train_loader = DataLoader(train_dataset, batch_size=batch_size, shuffle=True)"
   ]
  },
  {
   "cell_type": "code",
   "execution_count": 5,
   "id": "40ca634e",
   "metadata": {
    "execution": {
     "iopub.execute_input": "2025-08-05T16:29:09.406881Z",
     "iopub.status.busy": "2025-08-05T16:29:09.406541Z",
     "iopub.status.idle": "2025-08-05T16:29:09.414736Z",
     "shell.execute_reply": "2025-08-05T16:29:09.413757Z"
    },
    "papermill": {
     "duration": 0.015338,
     "end_time": "2025-08-05T16:29:09.416340",
     "exception": false,
     "start_time": "2025-08-05T16:29:09.401002",
     "status": "completed"
    },
    "tags": []
   },
   "outputs": [],
   "source": [
    "class Generator(nn.Module):\n",
    "    def __init__(self):\n",
    "        super(Generator, self).__init__()\n",
    "        self.model=nn.Sequential(\n",
    "            nn.Linear(latent_dim,256),\n",
    "            nn.LeakyReLU(0.2),\n",
    "            nn.Linear(256,512),\n",
    "            nn.LeakyReLU(0.2),\n",
    "            nn.Linear(512,img_size),\n",
    "            nn.Tanh()\n",
    "        )\n",
    "    def foreward(self, z):\n",
    "        return self.model(z)\n",
    "\n",
    "\n",
    "class Discriminator(nn.Module):\n",
    "    def __init__(self):\n",
    "        super(Discriminator, self).__init__()\n",
    "        nn.model=nn.Sequential(\n",
    "            nn.Linear(img_size, 256),\n",
    "            nn.LeakyReLU(0.2),\n",
    "            nn.Linear(256,512),\n",
    "            nn.LeakyReLU(0.2),\n",
    "            nn.Linear(512,1),\n",
    "            nn.Sigmoid()\n",
    "        )\n",
    "        def foreward(self, img):\n",
    "            self.model(img.view(img.size(0), -1))\n",
    "\n",
    "\n",
    "    \n",
    "    \n",
    "    "
   ]
  },
  {
   "cell_type": "code",
   "execution_count": null,
   "id": "3e83fcf2",
   "metadata": {
    "papermill": {
     "duration": 0.003823,
     "end_time": "2025-08-05T16:29:09.425503",
     "exception": false,
     "start_time": "2025-08-05T16:29:09.421680",
     "status": "completed"
    },
    "tags": []
   },
   "outputs": [],
   "source": []
  },
  {
   "cell_type": "code",
   "execution_count": 6,
   "id": "2b49451b",
   "metadata": {
    "execution": {
     "iopub.execute_input": "2025-08-05T16:29:09.435499Z",
     "iopub.status.busy": "2025-08-05T16:29:09.434749Z",
     "iopub.status.idle": "2025-08-05T16:29:09.447542Z",
     "shell.execute_reply": "2025-08-05T16:29:09.446544Z"
    },
    "papermill": {
     "duration": 0.019595,
     "end_time": "2025-08-05T16:29:09.449305",
     "exception": false,
     "start_time": "2025-08-05T16:29:09.429710",
     "status": "completed"
    },
    "tags": []
   },
   "outputs": [],
   "source": [
    "device = torch.device(\"cuda\" if torch.cuda.is_available() else \"cpu\")\n",
    "model_Gen=Generator().to(device)\n",
    "model_Dis=Discriminator().to(device)"
   ]
  },
  {
   "cell_type": "code",
   "execution_count": null,
   "id": "ce2c287f",
   "metadata": {
    "papermill": {
     "duration": 0.003792,
     "end_time": "2025-08-05T16:29:09.457338",
     "exception": false,
     "start_time": "2025-08-05T16:29:09.453546",
     "status": "completed"
    },
    "tags": []
   },
   "outputs": [],
   "source": []
  }
 ],
 "metadata": {
  "kaggle": {
   "accelerator": "none",
   "dataSources": [],
   "dockerImageVersionId": 31089,
   "isGpuEnabled": false,
   "isInternetEnabled": true,
   "language": "python",
   "sourceType": "notebook"
  },
  "kernelspec": {
   "display_name": "Python 3",
   "language": "python",
   "name": "python3"
  },
  "language_info": {
   "codemirror_mode": {
    "name": "ipython",
    "version": 3
   },
   "file_extension": ".py",
   "mimetype": "text/x-python",
   "name": "python",
   "nbconvert_exporter": "python",
   "pygments_lexer": "ipython3",
   "version": "3.11.13"
  },
  "papermill": {
   "default_parameters": {},
   "duration": 163.28187,
   "end_time": "2025-08-05T16:29:11.899117",
   "environment_variables": {},
   "exception": null,
   "input_path": "__notebook__.ipynb",
   "output_path": "__notebook__.ipynb",
   "parameters": {},
   "start_time": "2025-08-05T16:26:28.617247",
   "version": "2.6.0"
  }
 },
 "nbformat": 4,
 "nbformat_minor": 5
}
