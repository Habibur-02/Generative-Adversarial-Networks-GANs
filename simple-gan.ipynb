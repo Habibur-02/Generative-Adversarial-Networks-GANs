{
 "cells": [
  {
   "cell_type": "code",
   "execution_count": 1,
   "id": "cd2a4b3b",
   "metadata": {
    "_cell_guid": "b1076dfc-b9ad-4769-8c92-a6c4dae69d19",
    "_uuid": "8f2839f25d086af736a60e9eeb907d3b93b6e0e5",
    "execution": {
     "iopub.execute_input": "2025-08-06T17:05:50.595304Z",
     "iopub.status.busy": "2025-08-06T17:05:50.594958Z",
     "iopub.status.idle": "2025-08-06T17:05:52.087867Z",
     "shell.execute_reply": "2025-08-06T17:05:52.086850Z"
    },
    "papermill": {
     "duration": 1.497997,
     "end_time": "2025-08-06T17:05:52.089363",
     "exception": false,
     "start_time": "2025-08-06T17:05:50.591366",
     "status": "completed"
    },
    "tags": []
   },
   "outputs": [],
   "source": [
    "# This Python 3 environment comes with many helpful analytics libraries installed\n",
    "# It is defined by the kaggle/python Docker image: https://github.com/kaggle/docker-python\n",
    "# For example, here's several helpful packages to load\n",
    "\n",
    "import numpy as np # linear algebra\n",
    "import pandas as pd # data processing, CSV file I/O (e.g. pd.read_csv)\n",
    "\n",
    "# Input data files are available in the read-only \"../input/\" directory\n",
    "# For example, running this (by clicking run or pressing Shift+Enter) will list all files under the input directory\n",
    "\n",
    "import os\n",
    "for dirname, _, filenames in os.walk('/kaggle/input'):\n",
    "    for filename in filenames:\n",
    "        print(os.path.join(dirname, filename))\n",
    "\n",
    "# You can write up to 20GB to the current directory (/kaggle/working/) that gets preserved as output when you create a version using \"Save & Run All\" \n",
    "# You can also write temporary files to /kaggle/temp/, but they won't be saved outside of the current session"
   ]
  },
  {
   "cell_type": "code",
   "execution_count": 2,
   "id": "f92115de",
   "metadata": {
    "execution": {
     "iopub.execute_input": "2025-08-06T17:05:52.097836Z",
     "iopub.status.busy": "2025-08-06T17:05:52.097459Z",
     "iopub.status.idle": "2025-08-06T17:06:00.729825Z",
     "shell.execute_reply": "2025-08-06T17:06:00.729212Z"
    },
    "papermill": {
     "duration": 8.637778,
     "end_time": "2025-08-06T17:06:00.731156",
     "exception": false,
     "start_time": "2025-08-06T17:05:52.093378",
     "status": "completed"
    },
    "tags": []
   },
   "outputs": [],
   "source": [
    "import torch\n",
    "import torch.nn as nn\n",
    "import torch.optim as optim\n",
    "from torchvision import datasets, transforms\n",
    "from torch.utils.data import DataLoader\n",
    "import matplotlib.pyplot as plt"
   ]
  },
  {
   "cell_type": "code",
   "execution_count": 3,
   "id": "f51f6996",
   "metadata": {
    "execution": {
     "iopub.execute_input": "2025-08-06T17:06:00.736467Z",
     "iopub.status.busy": "2025-08-06T17:06:00.735958Z",
     "iopub.status.idle": "2025-08-06T17:06:05.221000Z",
     "shell.execute_reply": "2025-08-06T17:06:05.220000Z"
    },
    "papermill": {
     "duration": 4.488681,
     "end_time": "2025-08-06T17:06:05.222111",
     "exception": false,
     "start_time": "2025-08-06T17:06:00.733430",
     "status": "completed"
    },
    "tags": []
   },
   "outputs": [
    {
     "name": "stderr",
     "output_type": "stream",
     "text": [
      "100%|██████████| 9.91M/9.91M [00:01<00:00, 9.03MB/s]\n",
      "100%|██████████| 28.9k/28.9k [00:00<00:00, 474kB/s]\n",
      "100%|██████████| 1.65M/1.65M [00:00<00:00, 4.47MB/s]\n",
      "100%|██████████| 4.54k/4.54k [00:00<00:00, 6.64MB/s]\n"
     ]
    }
   ],
   "source": [
    "latent_dim = 100\n",
    "img_size = 28 * 28\n",
    "batch_size = 64\n",
    "epochs = 5\n",
    "lr = 0.0002\n",
    "\n",
    "transform = transforms.Compose([\n",
    "    transforms.ToTensor(),\n",
    "    transforms.Normalize((0.5,), (0.5,))\n",
    "])\n",
    "train_dataset = datasets.MNIST(root='./data', train=True, download=True, transform=transform)\n",
    "train_loader = DataLoader(train_dataset, batch_size=batch_size, shuffle=True)"
   ]
  },
  {
   "cell_type": "code",
   "execution_count": 4,
   "id": "76001acf",
   "metadata": {
    "execution": {
     "iopub.execute_input": "2025-08-06T17:06:05.229321Z",
     "iopub.status.busy": "2025-08-06T17:06:05.229100Z",
     "iopub.status.idle": "2025-08-06T17:06:05.235561Z",
     "shell.execute_reply": "2025-08-06T17:06:05.234848Z"
    },
    "papermill": {
     "duration": 0.011187,
     "end_time": "2025-08-06T17:06:05.236684",
     "exception": false,
     "start_time": "2025-08-06T17:06:05.225497",
     "status": "completed"
    },
    "tags": []
   },
   "outputs": [],
   "source": [
    "class Generator(nn.Module):\n",
    "    def __init__(self):\n",
    "        super(Generator, self).__init__()\n",
    "        self.model=nn.Sequential(\n",
    "            nn.Linear(latent_dim,256),\n",
    "            nn.LeakyReLU(0.2),\n",
    "            nn.Linear(256,512),\n",
    "            nn.LeakyReLU(0.2),\n",
    "            nn.Linear(512,img_size),\n",
    "            nn.Tanh()\n",
    "        )\n",
    "    def forward(self, z):\n",
    "        return self.model(z)\n",
    "\n",
    "\n",
    "class Discriminator(nn.Module):\n",
    "    def __init__(self):\n",
    "        super(Discriminator, self).__init__()\n",
    "        self.model=nn.Sequential(\n",
    "            nn.Linear(img_size, 256),\n",
    "            nn.LeakyReLU(0.2),\n",
    "            nn.Linear(256,512),\n",
    "            nn.LeakyReLU(0.2),\n",
    "            nn.Linear(512,1),\n",
    "            nn.Sigmoid()\n",
    "        )\n",
    "    def forward(self, img):\n",
    "        return self.model(img.view(img.size(0), -1))\n",
    "\n",
    "\n",
    "    \n"
   ]
  },
  {
   "cell_type": "code",
   "execution_count": 5,
   "id": "53f821ab",
   "metadata": {
    "execution": {
     "iopub.execute_input": "2025-08-06T17:06:05.243518Z",
     "iopub.status.busy": "2025-08-06T17:06:05.243049Z",
     "iopub.status.idle": "2025-08-06T17:06:05.462768Z",
     "shell.execute_reply": "2025-08-06T17:06:05.462129Z"
    },
    "papermill": {
     "duration": 0.224485,
     "end_time": "2025-08-06T17:06:05.464120",
     "exception": false,
     "start_time": "2025-08-06T17:06:05.239635",
     "status": "completed"
    },
    "tags": []
   },
   "outputs": [],
   "source": [
    "device = torch.device(\"cuda\" if torch.cuda.is_available() else \"cpu\")\n",
    "model_Gen=Generator().to(device)\n",
    "model_Dis=Discriminator().to(device)"
   ]
  },
  {
   "cell_type": "markdown",
   "id": "898428b3",
   "metadata": {
    "papermill": {
     "duration": 0.002849,
     "end_time": "2025-08-06T17:06:05.470111",
     "exception": false,
     "start_time": "2025-08-06T17:06:05.467262",
     "status": "completed"
    },
    "tags": []
   },
   "source": [
    "# Loss & Optimizer for both"
   ]
  },
  {
   "cell_type": "code",
   "execution_count": 6,
   "id": "7b2950d1",
   "metadata": {
    "execution": {
     "iopub.execute_input": "2025-08-06T17:06:05.476880Z",
     "iopub.status.busy": "2025-08-06T17:06:05.476639Z",
     "iopub.status.idle": "2025-08-06T17:06:05.481748Z",
     "shell.execute_reply": "2025-08-06T17:06:05.481167Z"
    },
    "papermill": {
     "duration": 0.009714,
     "end_time": "2025-08-06T17:06:05.482738",
     "exception": false,
     "start_time": "2025-08-06T17:06:05.473024",
     "status": "completed"
    },
    "tags": []
   },
   "outputs": [
    {
     "data": {
      "text/plain": [
       "Discriminator(\n",
       "  (model): Sequential(\n",
       "    (0): Linear(in_features=784, out_features=256, bias=True)\n",
       "    (1): LeakyReLU(negative_slope=0.2)\n",
       "    (2): Linear(in_features=256, out_features=512, bias=True)\n",
       "    (3): LeakyReLU(negative_slope=0.2)\n",
       "    (4): Linear(in_features=512, out_features=1, bias=True)\n",
       "    (5): Sigmoid()\n",
       "  )\n",
       ")"
      ]
     },
     "execution_count": 6,
     "metadata": {},
     "output_type": "execute_result"
    }
   ],
   "source": [
    "model_Dis"
   ]
  },
  {
   "cell_type": "code",
   "execution_count": 7,
   "id": "d667a5f3",
   "metadata": {
    "execution": {
     "iopub.execute_input": "2025-08-06T17:06:05.489551Z",
     "iopub.status.busy": "2025-08-06T17:06:05.489332Z",
     "iopub.status.idle": "2025-08-06T17:06:05.493575Z",
     "shell.execute_reply": "2025-08-06T17:06:05.492890Z"
    },
    "papermill": {
     "duration": 0.008822,
     "end_time": "2025-08-06T17:06:05.494612",
     "exception": false,
     "start_time": "2025-08-06T17:06:05.485790",
     "status": "completed"
    },
    "tags": []
   },
   "outputs": [],
   "source": [
    "lr=0.01\n",
    "optimizer_G=torch.optim.Adam(params=model_Gen.parameters(),lr=lr)\n",
    "optimizer_D=torch.optim.Adam(params=model_Dis.parameters(),lr=lr)\n",
    "\n",
    "loss_fn=nn.BCELoss()\n"
   ]
  },
  {
   "cell_type": "code",
   "execution_count": 8,
   "id": "c5ab9562",
   "metadata": {
    "execution": {
     "iopub.execute_input": "2025-08-06T17:06:05.501130Z",
     "iopub.status.busy": "2025-08-06T17:06:05.500924Z",
     "iopub.status.idle": "2025-08-06T17:10:53.452017Z",
     "shell.execute_reply": "2025-08-06T17:10:53.451200Z"
    },
    "papermill": {
     "duration": 287.955935,
     "end_time": "2025-08-06T17:10:53.453505",
     "exception": false,
     "start_time": "2025-08-06T17:06:05.497570",
     "status": "completed"
    },
    "tags": []
   },
   "outputs": [
    {
     "name": "stdout",
     "output_type": "stream",
     "text": [
      "[Batch 0/938] [D loss: 1.330353021621704] [G loss: 0.7899433374404907]\n",
      "[Batch 200/938] [D loss: 100.0] [G loss: 100.0]\n",
      "[Batch 400/938] [D loss: 100.0] [G loss: 100.0]\n",
      "[Batch 600/938] [D loss: 100.0] [G loss: 100.0]\n",
      "[Batch 800/938] [D loss: 100.0] [G loss: 100.0]\n"
     ]
    }
   ],
   "source": [
    "x=0\n",
    "for i,(img,_) in enumerate(train_loader):\n",
    "    real_img=img.to(device)\n",
    "    real_labels=torch.ones(img.size(0),1).to(device)\n",
    "    fake_labels=torch.zeros(img.size(0),1).to(device)\n",
    "    #Discriminator train\n",
    "    #Real img loss\n",
    "    optimizer_D.zero_grad()\n",
    "    real_output=model_Dis(real_img)\n",
    "    loss_disc_real=loss_fn(real_output, real_labels)\n",
    "    #Fake img create & loss\n",
    "\n",
    "    z=torch.randn(img.size(0),latent_dim).to(device)\n",
    "    fake_img=model_Gen(z)\n",
    "    #fake img loss\n",
    "    fake_output=model_Dis(fake_img.detach())\n",
    "    loss_disc_fake=loss_fn(fake_output,fake_labels)\n",
    "\n",
    "\n",
    "\n",
    "    #total loss \n",
    "    total_loss=loss_disc_real + loss_disc_fake\n",
    "    total_loss.backward()\n",
    "    optimizer_D.step()\n",
    "\n",
    "    \n",
    "\n",
    "\n",
    "\n",
    "    \n",
    "    #Generator train\n",
    "\n",
    "\n",
    "    optimizer_G.zero_grad()\n",
    "    validity=model_Dis(fake_img)\n",
    "    Gen_loss=loss_fn(validity,real_labels)\n",
    "    Gen_loss.backward()\n",
    "    optimizer_G.step()\n",
    "    \n",
    "    \n",
    "    \n",
    "    \n",
    "    if i % 200 == 0:\n",
    "        print(f\"[Batch {i}/{len(train_loader)}] \"\n",
    "              f\"[D loss: {total_loss.item()}] [G loss: {Gen_loss.item()}]\")\n",
    "    #generate & save image\n",
    "    with torch.no_grad():\n",
    "        sample_z=torch.randn(16,latent_dim).to(device)\n",
    "        generated=model_Gen(sample_z).cpu()\n",
    "        plt.figure(figsize=(4,4))\n",
    "        for j in range(16):\n",
    "            plt.subplot(4, 4, j+1)\n",
    "            plt.imshow(generated[j].view(28, 28).numpy(), cmap='gray')\n",
    "            plt.axis('off')\n",
    "        plt.savefig(f\"gan_output_epoch.png\")\n",
    "        plt.close()\n",
    "\n",
    "    \n",
    "    \n"
   ]
  },
  {
   "cell_type": "code",
   "execution_count": null,
   "id": "38eca292",
   "metadata": {
    "execution": {
     "iopub.execute_input": "2025-08-05T16:48:27.898598Z",
     "iopub.status.busy": "2025-08-05T16:48:27.898029Z",
     "iopub.status.idle": "2025-08-05T16:48:27.904035Z",
     "shell.execute_reply": "2025-08-05T16:48:27.903204Z",
     "shell.execute_reply.started": "2025-08-05T16:48:27.898574Z"
    },
    "papermill": {
     "duration": 0.003084,
     "end_time": "2025-08-06T17:10:53.460364",
     "exception": false,
     "start_time": "2025-08-06T17:10:53.457280",
     "status": "completed"
    },
    "tags": []
   },
   "outputs": [],
   "source": []
  },
  {
   "cell_type": "code",
   "execution_count": null,
   "id": "c1783b16",
   "metadata": {
    "papermill": {
     "duration": 0.002875,
     "end_time": "2025-08-06T17:10:53.466289",
     "exception": false,
     "start_time": "2025-08-06T17:10:53.463414",
     "status": "completed"
    },
    "tags": []
   },
   "outputs": [],
   "source": []
  }
 ],
 "metadata": {
  "kaggle": {
   "accelerator": "gpu",
   "dataSources": [],
   "dockerImageVersionId": 31089,
   "isGpuEnabled": true,
   "isInternetEnabled": true,
   "language": "python",
   "sourceType": "notebook"
  },
  "kernelspec": {
   "display_name": "Python 3",
   "language": "python",
   "name": "python3"
  },
  "language_info": {
   "codemirror_mode": {
    "name": "ipython",
    "version": 3
   },
   "file_extension": ".py",
   "mimetype": "text/x-python",
   "name": "python",
   "nbconvert_exporter": "python",
   "pygments_lexer": "ipython3",
   "version": "3.11.13"
  },
  "papermill": {
   "default_parameters": {},
   "duration": 310.158079,
   "end_time": "2025-08-06T17:10:56.689272",
   "environment_variables": {},
   "exception": null,
   "input_path": "__notebook__.ipynb",
   "output_path": "__notebook__.ipynb",
   "parameters": {},
   "start_time": "2025-08-06T17:05:46.531193",
   "version": "2.6.0"
  }
 },
 "nbformat": 4,
 "nbformat_minor": 5
}
