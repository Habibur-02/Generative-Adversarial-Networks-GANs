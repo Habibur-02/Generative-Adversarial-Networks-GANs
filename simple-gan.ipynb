{
 "cells": [
  {
   "cell_type": "code",
   "execution_count": 1,
   "id": "4997f38d",
   "metadata": {
    "_cell_guid": "b1076dfc-b9ad-4769-8c92-a6c4dae69d19",
    "_uuid": "8f2839f25d086af736a60e9eeb907d3b93b6e0e5",
    "execution": {
     "iopub.execute_input": "2025-08-05T17:52:16.446233Z",
     "iopub.status.busy": "2025-08-05T17:52:16.445949Z",
     "iopub.status.idle": "2025-08-05T17:52:18.079200Z",
     "shell.execute_reply": "2025-08-05T17:52:18.078356Z"
    },
    "papermill": {
     "duration": 1.639194,
     "end_time": "2025-08-05T17:52:18.080942",
     "exception": false,
     "start_time": "2025-08-05T17:52:16.441748",
     "status": "completed"
    },
    "tags": []
   },
   "outputs": [],
   "source": [
    "# This Python 3 environment comes with many helpful analytics libraries installed\n",
    "# It is defined by the kaggle/python Docker image: https://github.com/kaggle/docker-python\n",
    "# For example, here's several helpful packages to load\n",
    "\n",
    "import numpy as np # linear algebra\n",
    "import pandas as pd # data processing, CSV file I/O (e.g. pd.read_csv)\n",
    "\n",
    "# Input data files are available in the read-only \"../input/\" directory\n",
    "# For example, running this (by clicking run or pressing Shift+Enter) will list all files under the input directory\n",
    "\n",
    "import os\n",
    "for dirname, _, filenames in os.walk('/kaggle/input'):\n",
    "    for filename in filenames:\n",
    "        print(os.path.join(dirname, filename))\n",
    "\n",
    "# You can write up to 20GB to the current directory (/kaggle/working/) that gets preserved as output when you create a version using \"Save & Run All\" \n",
    "# You can also write temporary files to /kaggle/temp/, but they won't be saved outside of the current session"
   ]
  },
  {
   "cell_type": "code",
   "execution_count": 2,
   "id": "5fb459ac",
   "metadata": {
    "execution": {
     "iopub.execute_input": "2025-08-05T17:52:18.088290Z",
     "iopub.status.busy": "2025-08-05T17:52:18.087863Z",
     "iopub.status.idle": "2025-08-05T17:52:18.093751Z",
     "shell.execute_reply": "2025-08-05T17:52:18.093147Z"
    },
    "papermill": {
     "duration": 0.010589,
     "end_time": "2025-08-05T17:52:18.094896",
     "exception": false,
     "start_time": "2025-08-05T17:52:18.084307",
     "status": "completed"
    },
    "tags": []
   },
   "outputs": [],
   "source": [
    "# import torch\n",
    "# import torch.nn as nn\n",
    "# import torch.optim as optim\n",
    "# from torchvision import datasets, transforms\n",
    "# from torch.utils.data import DataLoader\n",
    "# import matplotlib.pyplot as plt\n",
    "\n",
    "# # হাইপারপ্যারামিটার\n",
    "# latent_dim = 100\n",
    "# img_size = 28 * 28\n",
    "# batch_size = 64\n",
    "# epochs = 5\n",
    "# lr = 0.0002\n",
    "\n",
    "# # ডেটালোডার (MNIST)\n",
    "# transform = transforms.Compose([\n",
    "#     transforms.ToTensor(),\n",
    "#     transforms.Normalize((0.5,), (0.5,))\n",
    "# ])\n",
    "# train_dataset = datasets.MNIST(root='./data', train=True, download=True, transform=transform)\n",
    "# train_loader = DataLoader(train_dataset, batch_size=batch_size, shuffle=True)\n",
    "\n",
    "\n",
    "\n",
    "# # জেনারেটর নেটওয়ার্ক\n",
    "# class Generator(nn.Module):\n",
    "#     def __init__(self):\n",
    "#         super(Generator, self).__init__()\n",
    "#         self.model = nn.Sequential(\n",
    "#             nn.Linear(latent_dim, 256),\n",
    "#             nn.LeakyReLU(0.2),\n",
    "#             nn.Linear(256, 512),\n",
    "#             nn.LeakyReLU(0.2),\n",
    "#             nn.Linear(512, img_size),\n",
    "#             nn.Tanh()\n",
    "#         )\n",
    "    \n",
    "#     def forward(self, z):\n",
    "#         return self.model(z)\n",
    "\n",
    "# # ডিস্ক্রিমিনেটর নেটওয়ার্ক\n",
    "# class Discriminator(nn.Module):\n",
    "#     def __init__(self):\n",
    "#         super(Discriminator, self).__init__()\n",
    "#         self.model = nn.Sequential(\n",
    "#             nn.Linear(img_size, 512),\n",
    "#             nn.LeakyReLU(0.2),\n",
    "#             nn.Linear(512, 256),\n",
    "#             nn.LeakyReLU(0.2),\n",
    "#             nn.Linear(256, 1),\n",
    "#             nn.Sigmoid()\n",
    "#         )\n",
    "    \n",
    "#     def forward(self, img):\n",
    "#         return self.model(img.view(img.size(0), -1))\n",
    "\n",
    "# # মডেল, অপ্টিমাইজার, লস\n",
    "# device = torch.device(\"cuda\" if torch.cuda.is_available() else \"cpu\")\n",
    "# G = Generator().to(device)\n",
    "# D = Discriminator().to(device)\n",
    "# optimizer_G = optim.Adam(G.parameters(), lr=lr)\n",
    "# optimizer_D = optim.Adam(D.parameters(), lr=lr)\n",
    "# loss_fn = nn.BCELoss()\n",
    "\n",
    "# # ট্রেনিং লুপ\n",
    "# for epoch in range(epochs):\n",
    "#     for i, (imgs, _) in enumerate(train_loader):\n",
    "#         # আসল এবং নকল লেবেল\n",
    "#         real_imgs = imgs.to(device)\n",
    "#         real_labels = torch.ones(imgs.size(0), 1).to(device)\n",
    "#         fake_labels = torch.zeros(imgs.size(0), 1).to(device)\n",
    "        \n",
    "#         # ====== ডিস্ক্রিমিনেটর ট্রেন ======\n",
    "#         optimizer_D.zero_grad()\n",
    "        \n",
    "#         # আসল ইমেজের লস\n",
    "#         real_output = D(real_imgs)\n",
    "#         d_loss_real = loss_fn(real_output, real_labels)\n",
    "        \n",
    "#         # নকল ইমেজ জেনারেট\n",
    "#         z = torch.randn(imgs.size(0), latent_dim).to(device)\n",
    "#         fake_imgs = G(z)\n",
    "        \n",
    "#         # নকল ইমেজের লস \n",
    "#         fake_output = D(fake_imgs.detach())\n",
    "#         d_loss_fake = loss_fn(fake_output, fake_labels)\n",
    "        \n",
    "#         # মোট লস এবং ব্যাকপ্রপ \n",
    "#         d_loss = d_loss_real + d_loss_fake\n",
    "#         d_loss.backward()\n",
    "#         optimizer_D.step()\n",
    "        \n",
    "#         # ====== জেনারেটর ট্রেন ====== \n",
    "#         optimizer_G.zero_grad()\n",
    "        \n",
    "#         # জেনারেটরের লস\n",
    "#         validity = D(fake_imgs)\n",
    "#         g_loss = loss_fn(validity, real_labels)\n",
    "        \n",
    "#         g_loss.backward()\n",
    "#         optimizer_G.step()\n",
    "        \n",
    "#         # প্রোগ্রেস প্রিন্ট \n",
    "#         if i % 200 == 0:\n",
    "#             print(f\"[Epoch {epoch}/{epochs}] [Batch {i}/{len(train_loader)}] \"\n",
    "#                   f\"[D loss: {d_loss.item()}] [G loss: {g_loss.item()}]\")\n",
    "    \n",
    "#     # জেনারেট করা ইমেজ সেভ \n",
    "#     with torch.no_grad():\n",
    "#         sample_z = torch.randn(16, latent_dim).to(device)\n",
    "#         generated = G(sample_z).cpu()\n",
    "#         plt.figure(figsize=(4, 4))\n",
    "#         for i in range(16):\n",
    "#             plt.subplot(4, 4, i+1)\n",
    "#             plt.imshow(generated[i].view(28, 28).numpy(), cmap='gray')\n",
    "#             plt.axis('off')\n",
    "#         plt.savefig(f\"gan_output_epoch_{epoch}.png\")\n",
    "#         plt.close()\n"
   ]
  },
  {
   "cell_type": "code",
   "execution_count": 3,
   "id": "b3e0de9e",
   "metadata": {
    "execution": {
     "iopub.execute_input": "2025-08-05T17:52:18.100962Z",
     "iopub.status.busy": "2025-08-05T17:52:18.100677Z",
     "iopub.status.idle": "2025-08-05T17:52:27.970724Z",
     "shell.execute_reply": "2025-08-05T17:52:27.969861Z"
    },
    "papermill": {
     "duration": 9.874828,
     "end_time": "2025-08-05T17:52:27.972330",
     "exception": false,
     "start_time": "2025-08-05T17:52:18.097502",
     "status": "completed"
    },
    "tags": []
   },
   "outputs": [],
   "source": [
    "import torch\n",
    "import torch.nn as nn\n",
    "import torch.optim as optim\n",
    "from torchvision import datasets, transforms\n",
    "from torch.utils.data import DataLoader\n",
    "import matplotlib.pyplot as plt"
   ]
  },
  {
   "cell_type": "code",
   "execution_count": 4,
   "id": "b8968fc9",
   "metadata": {
    "execution": {
     "iopub.execute_input": "2025-08-05T17:52:27.978667Z",
     "iopub.status.busy": "2025-08-05T17:52:27.978324Z",
     "iopub.status.idle": "2025-08-05T17:52:29.727492Z",
     "shell.execute_reply": "2025-08-05T17:52:29.726659Z"
    },
    "papermill": {
     "duration": 1.753965,
     "end_time": "2025-08-05T17:52:29.729022",
     "exception": false,
     "start_time": "2025-08-05T17:52:27.975057",
     "status": "completed"
    },
    "tags": []
   },
   "outputs": [
    {
     "name": "stderr",
     "output_type": "stream",
     "text": [
      "100%|██████████| 9.91M/9.91M [00:00<00:00, 59.5MB/s]\n",
      "100%|██████████| 28.9k/28.9k [00:00<00:00, 1.66MB/s]\n",
      "100%|██████████| 1.65M/1.65M [00:00<00:00, 14.8MB/s]\n",
      "100%|██████████| 4.54k/4.54k [00:00<00:00, 6.41MB/s]\n"
     ]
    }
   ],
   "source": [
    "# হাইপারপ্যারামিটার\n",
    "latent_dim = 100\n",
    "img_size = 28 * 28\n",
    "batch_size = 64\n",
    "epochs = 5\n",
    "lr = 0.0002\n",
    "\n",
    "# ডেটালোডার (MNIST)\n",
    "transform = transforms.Compose([\n",
    "    transforms.ToTensor(),\n",
    "    transforms.Normalize((0.5,), (0.5,))\n",
    "])\n",
    "train_dataset = datasets.MNIST(root='./data', train=True, download=True, transform=transform)\n",
    "train_loader = DataLoader(train_dataset, batch_size=batch_size, shuffle=True)"
   ]
  },
  {
   "cell_type": "code",
   "execution_count": 5,
   "id": "a7cc541c",
   "metadata": {
    "execution": {
     "iopub.execute_input": "2025-08-05T17:52:29.738095Z",
     "iopub.status.busy": "2025-08-05T17:52:29.737819Z",
     "iopub.status.idle": "2025-08-05T17:52:29.745163Z",
     "shell.execute_reply": "2025-08-05T17:52:29.744491Z"
    },
    "papermill": {
     "duration": 0.01307,
     "end_time": "2025-08-05T17:52:29.746334",
     "exception": false,
     "start_time": "2025-08-05T17:52:29.733264",
     "status": "completed"
    },
    "tags": []
   },
   "outputs": [],
   "source": [
    "class Generator(nn.Module):\n",
    "    def __init__(self):\n",
    "        super(Generator, self).__init__()\n",
    "        self.model=nn.Sequential(\n",
    "            nn.Linear(latent_dim,256),\n",
    "            nn.LeakyReLU(0.2),\n",
    "            nn.Linear(256,512),\n",
    "            nn.LeakyReLU(0.2),\n",
    "            nn.Linear(512,img_size),\n",
    "            nn.Tanh()\n",
    "        )\n",
    "    def forward(self, z):\n",
    "        return self.model(z)\n",
    "\n",
    "\n",
    "class Discriminator(nn.Module):\n",
    "    def __init__(self):\n",
    "        super(Discriminator, self).__init__()\n",
    "        self.model=nn.Sequential(\n",
    "            nn.Linear(img_size, 256),\n",
    "            nn.LeakyReLU(0.2),\n",
    "            nn.Linear(256,512),\n",
    "            nn.LeakyReLU(0.2),\n",
    "            nn.Linear(512,1),\n",
    "            nn.Sigmoid()\n",
    "        )\n",
    "    def forward(self, img):\n",
    "        return self.model(img.view(img.size(0), -1))\n",
    "\n",
    "\n",
    "    \n"
   ]
  },
  {
   "cell_type": "code",
   "execution_count": 6,
   "id": "fcdc6d4b",
   "metadata": {
    "execution": {
     "iopub.execute_input": "2025-08-05T17:52:29.753287Z",
     "iopub.status.busy": "2025-08-05T17:52:29.753033Z",
     "iopub.status.idle": "2025-08-05T17:52:30.002749Z",
     "shell.execute_reply": "2025-08-05T17:52:30.001823Z"
    },
    "papermill": {
     "duration": 0.254962,
     "end_time": "2025-08-05T17:52:30.004372",
     "exception": false,
     "start_time": "2025-08-05T17:52:29.749410",
     "status": "completed"
    },
    "tags": []
   },
   "outputs": [],
   "source": [
    "device = torch.device(\"cuda\" if torch.cuda.is_available() else \"cpu\")\n",
    "model_Gen=Generator().to(device)\n",
    "model_Dis=Discriminator().to(device)"
   ]
  },
  {
   "cell_type": "markdown",
   "id": "fd0dbd40",
   "metadata": {
    "papermill": {
     "duration": 0.002846,
     "end_time": "2025-08-05T17:52:30.010429",
     "exception": false,
     "start_time": "2025-08-05T17:52:30.007583",
     "status": "completed"
    },
    "tags": []
   },
   "source": [
    "# Loss & Optimizer for both"
   ]
  },
  {
   "cell_type": "code",
   "execution_count": 7,
   "id": "7f933663",
   "metadata": {
    "execution": {
     "iopub.execute_input": "2025-08-05T17:52:30.017525Z",
     "iopub.status.busy": "2025-08-05T17:52:30.016912Z",
     "iopub.status.idle": "2025-08-05T17:52:30.022540Z",
     "shell.execute_reply": "2025-08-05T17:52:30.021759Z"
    },
    "papermill": {
     "duration": 0.01043,
     "end_time": "2025-08-05T17:52:30.023767",
     "exception": false,
     "start_time": "2025-08-05T17:52:30.013337",
     "status": "completed"
    },
    "tags": []
   },
   "outputs": [
    {
     "data": {
      "text/plain": [
       "Discriminator(\n",
       "  (model): Sequential(\n",
       "    (0): Linear(in_features=784, out_features=256, bias=True)\n",
       "    (1): LeakyReLU(negative_slope=0.2)\n",
       "    (2): Linear(in_features=256, out_features=512, bias=True)\n",
       "    (3): LeakyReLU(negative_slope=0.2)\n",
       "    (4): Linear(in_features=512, out_features=1, bias=True)\n",
       "    (5): Sigmoid()\n",
       "  )\n",
       ")"
      ]
     },
     "execution_count": 7,
     "metadata": {},
     "output_type": "execute_result"
    }
   ],
   "source": [
    "model_Dis"
   ]
  },
  {
   "cell_type": "code",
   "execution_count": 8,
   "id": "0f3a8470",
   "metadata": {
    "execution": {
     "iopub.execute_input": "2025-08-05T17:52:30.030639Z",
     "iopub.status.busy": "2025-08-05T17:52:30.030420Z",
     "iopub.status.idle": "2025-08-05T17:52:30.035136Z",
     "shell.execute_reply": "2025-08-05T17:52:30.034490Z"
    },
    "papermill": {
     "duration": 0.009562,
     "end_time": "2025-08-05T17:52:30.036347",
     "exception": false,
     "start_time": "2025-08-05T17:52:30.026785",
     "status": "completed"
    },
    "tags": []
   },
   "outputs": [],
   "source": [
    "lr=0.01\n",
    "optimizer_G=torch.optim.Adam(params=model_Gen.parameters(),lr=lr)\n",
    "optimizer_D=torch.optim.Adam(params=model_Dis.parameters(),lr=lr)\n",
    "\n",
    "loss_fn=nn.BCELoss()\n"
   ]
  },
  {
   "cell_type": "code",
   "execution_count": 9,
   "id": "ddf8da39",
   "metadata": {
    "execution": {
     "iopub.execute_input": "2025-08-05T17:52:30.043481Z",
     "iopub.status.busy": "2025-08-05T17:52:30.043219Z",
     "iopub.status.idle": "2025-08-05T17:58:27.028933Z",
     "shell.execute_reply": "2025-08-05T17:58:27.028233Z"
    },
    "papermill": {
     "duration": 356.991173,
     "end_time": "2025-08-05T17:58:27.030588",
     "exception": false,
     "start_time": "2025-08-05T17:52:30.039415",
     "status": "completed"
    },
    "tags": []
   },
   "outputs": [
    {
     "name": "stdout",
     "output_type": "stream",
     "text": [
      "[Batch 0/938] [D loss: 1.3970987796783447] [G loss: 0.6865860223770142]\n",
      "[Batch 200/938] [D loss: 4.6875] [G loss: 95.3125]\n",
      "[Batch 400/938] [D loss: 56.25] [G loss: 43.75]\n",
      "[Batch 600/938] [D loss: 1.5625] [G loss: 98.4375]\n",
      "[Batch 800/938] [D loss: 0.0] [G loss: 100.0]\n"
     ]
    }
   ],
   "source": [
    "x=0\n",
    "for i,(img,_) in enumerate(train_loader):\n",
    "    real_img=img.to(device)\n",
    "    real_labels=torch.ones(img.size(0),1).to(device)\n",
    "    fake_labels=torch.zeros(img.size(0),1).to(device)\n",
    "    #Discriminator train\n",
    "    #Real img loss\n",
    "    optimizer_D.zero_grad()\n",
    "    real_output=model_Dis(real_img)\n",
    "    loss_disc_real=loss_fn(real_output, real_labels)\n",
    "    #Fake img create & loss\n",
    "\n",
    "    z=torch.randn(img.size(0),latent_dim).to(device)\n",
    "    fake_img=model_Gen(z)\n",
    "    #fake img loss\n",
    "    fake_output=model_Dis(fake_img.detach())\n",
    "    loss_disc_fake=loss_fn(fake_output,fake_labels)\n",
    "\n",
    "\n",
    "\n",
    "    #total loss \n",
    "    total_loss=loss_disc_real + loss_disc_fake\n",
    "    total_loss.backward()\n",
    "    optimizer_D.step()\n",
    "\n",
    "    \n",
    "\n",
    "\n",
    "\n",
    "    \n",
    "    #Generator train\n",
    "\n",
    "\n",
    "    optimizer_G.zero_grad()\n",
    "    validity=model_Dis(fake_img)\n",
    "    Gen_loss=loss_fn(validity,real_labels)\n",
    "    Gen_loss.backward()\n",
    "    optimizer_G.step()\n",
    "    \n",
    "    \n",
    "    \n",
    "    # প্রোগ্রেস প্রিন্ট \n",
    "    if i % 200 == 0:\n",
    "        print(f\"[Batch {i}/{len(train_loader)}] \"\n",
    "              f\"[D loss: {total_loss.item()}] [G loss: {Gen_loss.item()}]\")\n",
    "    #generate & save image\n",
    "    with torch.no_grad():\n",
    "        sample_z=torch.randn(16,latent_dim).to(device)\n",
    "        generated=model_Gen(sample_z).cpu()\n",
    "        plt.figure(figsize=(4,4))\n",
    "        for j in range(16):\n",
    "            plt.subplot(4, 4, j+1)\n",
    "            plt.imshow(generated[j].view(28, 28).numpy(), cmap='gray')\n",
    "            plt.axis('off')\n",
    "        plt.savefig(f\"gan_output_epoch.png\")\n",
    "        plt.close()\n",
    "\n",
    "    \n",
    "    \n"
   ]
  },
  {
   "cell_type": "code",
   "execution_count": null,
   "id": "d401ee48",
   "metadata": {
    "execution": {
     "iopub.execute_input": "2025-08-05T16:48:27.898598Z",
     "iopub.status.busy": "2025-08-05T16:48:27.898029Z",
     "iopub.status.idle": "2025-08-05T16:48:27.904035Z",
     "shell.execute_reply": "2025-08-05T16:48:27.903204Z",
     "shell.execute_reply.started": "2025-08-05T16:48:27.898574Z"
    },
    "papermill": {
     "duration": 0.003256,
     "end_time": "2025-08-05T17:58:27.037761",
     "exception": false,
     "start_time": "2025-08-05T17:58:27.034505",
     "status": "completed"
    },
    "tags": []
   },
   "outputs": [],
   "source": []
  },
  {
   "cell_type": "code",
   "execution_count": null,
   "id": "4736eb32",
   "metadata": {
    "papermill": {
     "duration": 0.003246,
     "end_time": "2025-08-05T17:58:27.044588",
     "exception": false,
     "start_time": "2025-08-05T17:58:27.041342",
     "status": "completed"
    },
    "tags": []
   },
   "outputs": [],
   "source": []
  }
 ],
 "metadata": {
  "kaggle": {
   "accelerator": "gpu",
   "dataSources": [],
   "dockerImageVersionId": 31089,
   "isGpuEnabled": true,
   "isInternetEnabled": true,
   "language": "python",
   "sourceType": "notebook"
  },
  "kernelspec": {
   "display_name": "Python 3",
   "language": "python",
   "name": "python3"
  },
  "language_info": {
   "codemirror_mode": {
    "name": "ipython",
    "version": 3
   },
   "file_extension": ".py",
   "mimetype": "text/x-python",
   "name": "python",
   "nbconvert_exporter": "python",
   "pygments_lexer": "ipython3",
   "version": "3.11.13"
  },
  "papermill": {
   "default_parameters": {},
   "duration": 378.47895,
   "end_time": "2025-08-05T17:58:30.369168",
   "environment_variables": {},
   "exception": null,
   "input_path": "__notebook__.ipynb",
   "output_path": "__notebook__.ipynb",
   "parameters": {},
   "start_time": "2025-08-05T17:52:11.890218",
   "version": "2.6.0"
  }
 },
 "nbformat": 4,
 "nbformat_minor": 5
}
