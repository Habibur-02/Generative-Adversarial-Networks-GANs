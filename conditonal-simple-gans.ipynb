{
 "cells": [
  {
   "cell_type": "code",
   "execution_count": 1,
   "id": "52592a9a",
   "metadata": {
    "_cell_guid": "b1076dfc-b9ad-4769-8c92-a6c4dae69d19",
    "_uuid": "8f2839f25d086af736a60e9eeb907d3b93b6e0e5",
    "execution": {
     "iopub.execute_input": "2025-08-11T20:19:40.173174Z",
     "iopub.status.busy": "2025-08-11T20:19:40.172859Z",
     "iopub.status.idle": "2025-08-11T20:19:42.113340Z",
     "shell.execute_reply": "2025-08-11T20:19:42.112402Z"
    },
    "papermill": {
     "duration": 1.946631,
     "end_time": "2025-08-11T20:19:42.115083",
     "exception": false,
     "start_time": "2025-08-11T20:19:40.168452",
     "status": "completed"
    },
    "tags": []
   },
   "outputs": [],
   "source": [
    "# This Python 3 environment comes with many helpful analytics libraries installed\n",
    "# It is defined by the kaggle/python Docker image: https://github.com/kaggle/docker-python\n",
    "# For example, here's several helpful packages to load\n",
    "\n",
    "import numpy as np # linear algebra\n",
    "import pandas as pd # data processing, CSV file I/O (e.g. pd.read_csv)\n",
    "\n",
    "# Input data files are available in the read-only \"../input/\" directory\n",
    "# For example, running this (by clicking run or pressing Shift+Enter) will list all files under the input directory\n",
    "\n",
    "import os\n",
    "for dirname, _, filenames in os.walk('/kaggle/input'):\n",
    "    for filename in filenames:\n",
    "        print(os.path.join(dirname, filename))\n",
    "\n",
    "# You can write up to 20GB to the current directory (/kaggle/working/) that gets preserved as output when you create a version using \"Save & Run All\" \n",
    "# You can also write temporary files to /kaggle/temp/, but they won't be saved outside of the current session"
   ]
  },
  {
   "cell_type": "code",
   "execution_count": 2,
   "id": "37702018",
   "metadata": {
    "execution": {
     "iopub.execute_input": "2025-08-11T20:19:42.121726Z",
     "iopub.status.busy": "2025-08-11T20:19:42.121269Z",
     "iopub.status.idle": "2025-08-11T20:19:55.858078Z",
     "shell.execute_reply": "2025-08-11T20:19:55.857077Z"
    },
    "papermill": {
     "duration": 13.741516,
     "end_time": "2025-08-11T20:19:55.859656",
     "exception": false,
     "start_time": "2025-08-11T20:19:42.118140",
     "status": "completed"
    },
    "tags": []
   },
   "outputs": [
    {
     "name": "stderr",
     "output_type": "stream",
     "text": [
      "100%|██████████| 9.91M/9.91M [00:00<00:00, 37.0MB/s]\n",
      "100%|██████████| 28.9k/28.9k [00:00<00:00, 1.08MB/s]\n",
      "100%|██████████| 1.65M/1.65M [00:00<00:00, 9.46MB/s]\n",
      "100%|██████████| 4.54k/4.54k [00:00<00:00, 4.92MB/s]\n"
     ]
    }
   ],
   "source": [
    "import torch\n",
    "import torch.nn as nn\n",
    "from torch.utils.data import DataLoader\n",
    "from torchvision import datasets, transforms\n",
    "from torchvision.utils import save_image\n",
    "import os\n",
    "\n",
    "latent_dim = 100\n",
    "num_classes = 10  \n",
    "img_size = 28 * 28\n",
    "batch_size = 64\n",
    "lr = 0.0002\n",
    "epochs = 5\n",
    "device = torch.device(\"cuda\" if torch.cuda.is_available() else \"cpu\")\n",
    "\n",
    "transform = transforms.Compose([\n",
    "    transforms.ToTensor(),\n",
    "    transforms.Normalize((0.5,), (0.5,))\n",
    "])\n",
    "train_dataset = datasets.MNIST(root='./data', train=True, download=True, transform=transform)\n",
    "train_loader = DataLoader(train_dataset, batch_size=batch_size, shuffle=True)"
   ]
  },
  {
   "cell_type": "code",
   "execution_count": 3,
   "id": "6e903761",
   "metadata": {
    "execution": {
     "iopub.execute_input": "2025-08-11T20:19:55.869810Z",
     "iopub.status.busy": "2025-08-11T20:19:55.868748Z",
     "iopub.status.idle": "2025-08-11T20:19:55.910861Z",
     "shell.execute_reply": "2025-08-11T20:19:55.909915Z"
    },
    "papermill": {
     "duration": 0.048606,
     "end_time": "2025-08-11T20:19:55.912461",
     "exception": false,
     "start_time": "2025-08-11T20:19:55.863855",
     "status": "completed"
    },
    "tags": []
   },
   "outputs": [
    {
     "data": {
      "text/plain": [
       "tensor([[ 0.1600, -0.2225,  1.2101, -0.3174, -1.0013, -1.8289,  1.9442, -0.3616,\n",
       "          0.7237, -0.5085],\n",
       "        [ 0.1600, -0.2225,  1.2101, -0.3174, -1.0013, -1.8289,  1.9442, -0.3616,\n",
       "          0.7237, -0.5085],\n",
       "        [-0.8028, -0.3788, -0.2459, -1.0448,  1.2136, -2.1445, -0.4011,  0.5549,\n",
       "         -1.1913,  1.4045],\n",
       "        [-0.8028, -0.3788, -0.2459, -1.0448,  1.2136, -2.1445, -0.4011,  0.5549,\n",
       "         -1.1913,  1.4045]], grad_fn=<EmbeddingBackward0>)"
      ]
     },
     "execution_count": 3,
     "metadata": {},
     "output_type": "execute_result"
    }
   ],
   "source": [
    "embedding=nn.Embedding(5,10)\n",
    "embedding(torch.tensor([0,0,1,1]))\n",
    "\n"
   ]
  },
  {
   "cell_type": "code",
   "execution_count": 4,
   "id": "395a4d6d",
   "metadata": {
    "execution": {
     "iopub.execute_input": "2025-08-11T20:19:55.920421Z",
     "iopub.status.busy": "2025-08-11T20:19:55.920102Z",
     "iopub.status.idle": "2025-08-11T20:19:55.937674Z",
     "shell.execute_reply": "2025-08-11T20:19:55.936788Z"
    },
    "papermill": {
     "duration": 0.023139,
     "end_time": "2025-08-11T20:19:55.939133",
     "exception": false,
     "start_time": "2025-08-11T20:19:55.915994",
     "status": "completed"
    },
    "tags": []
   },
   "outputs": [
    {
     "data": {
      "text/plain": [
       "Generator(\n",
       "  (label_embedding): Embedding(10, 20)\n",
       "  (model): Sequential(\n",
       "    (0): Linear(in_features=120, out_features=128, bias=True)\n",
       "    (1): LeakyReLU(negative_slope=0.2)\n",
       "    (2): Linear(in_features=128, out_features=256, bias=True)\n",
       "    (3): LeakyReLU(negative_slope=0.2)\n",
       "    (4): Linear(in_features=256, out_features=512, bias=True)\n",
       "    (5): Linear(in_features=512, out_features=784, bias=True)\n",
       "    (6): Tanh()\n",
       "  )\n",
       ")"
      ]
     },
     "execution_count": 4,
     "metadata": {},
     "output_type": "execute_result"
    }
   ],
   "source": [
    "num_class=10\n",
    "embed_len=20\n",
    "latent_dim=100\n",
    "img_size=28*28\n",
    "class Generator(nn.Module):\n",
    "    def __init__(self):\n",
    "        super(Generator, self).__init__()\n",
    "        self.label_embedding=nn.Embedding(num_class,embed_len)\n",
    "        self.model=nn.Sequential(\n",
    "            nn.Linear(latent_dim+embed_len, 128),\n",
    "            nn.LeakyReLU(0.2),\n",
    "            nn.Linear(128, 256),\n",
    "            nn.LeakyReLU(0.2),\n",
    "            nn.Linear(256, 512),\n",
    "            nn.Linear(512, img_size),\n",
    "            nn.Tanh()\n",
    "            \n",
    "        )\n",
    "    def forward(self, z, label):\n",
    "        # print(label.shape)\n",
    "        c=self.label_embedding(label)\n",
    "        print(c.shape)\n",
    "        print(z.shape)\n",
    "        x=torch.cat([z,c],dim=1)\n",
    "        print(x.shape)\n",
    "        return self.model(x)\n",
    "        \n",
    "device = torch.device(\"cuda\" if torch.cuda.is_available() else \"cpu\")\n",
    "model_Gen=Generator().to(device)\n",
    "model_Gen\n",
    "\n"
   ]
  },
  {
   "cell_type": "code",
   "execution_count": 5,
   "id": "6e2619b1",
   "metadata": {
    "execution": {
     "iopub.execute_input": "2025-08-11T20:19:55.947257Z",
     "iopub.status.busy": "2025-08-11T20:19:55.946982Z",
     "iopub.status.idle": "2025-08-11T20:19:55.990387Z",
     "shell.execute_reply": "2025-08-11T20:19:55.989426Z"
    },
    "papermill": {
     "duration": 0.049267,
     "end_time": "2025-08-11T20:19:55.991894",
     "exception": false,
     "start_time": "2025-08-11T20:19:55.942627",
     "status": "completed"
    },
    "tags": []
   },
   "outputs": [
    {
     "name": "stderr",
     "output_type": "stream",
     "text": [
      "/tmp/ipykernel_13/4065182639.py:4: UserWarning: To copy construct from a tensor, it is recommended to use sourceTensor.clone().detach() or sourceTensor.clone().detach().requires_grad_(True), rather than torch.tensor(sourceTensor).\n",
      "  z=torch.tensor(z)\n",
      "/tmp/ipykernel_13/4065182639.py:6: UserWarning: To copy construct from a tensor, it is recommended to use sourceTensor.clone().detach() or sourceTensor.clone().detach().requires_grad_(True), rather than torch.tensor(sourceTensor).\n",
      "  label=torch.tensor(label)\n"
     ]
    },
    {
     "name": "stdout",
     "output_type": "stream",
     "text": [
      "torch.Size([32, 20])\n",
      "torch.Size([32, 100])\n",
      "torch.Size([32, 120])\n"
     ]
    },
    {
     "data": {
      "text/plain": [
       "tensor([[ 0.0143,  0.0015, -0.0002,  ..., -0.0479, -0.0835, -0.0947],\n",
       "        [ 0.0408, -0.0328, -0.0309,  ..., -0.0341,  0.0052, -0.1011],\n",
       "        [-0.0098,  0.0299, -0.0009,  ..., -0.0648, -0.0211, -0.0954],\n",
       "        ...,\n",
       "        [-0.0117, -0.1247,  0.0605,  ..., -0.1003,  0.1082,  0.0528],\n",
       "        [ 0.0345,  0.0115, -0.0060,  ..., -0.0202,  0.0302, -0.1175],\n",
       "        [-0.0246, -0.0441, -0.0371,  ..., -0.0260, -0.0021, -0.0737]],\n",
       "       grad_fn=<TanhBackward0>)"
      ]
     },
     "execution_count": 5,
     "metadata": {},
     "output_type": "execute_result"
    }
   ],
   "source": [
    "batch=32\n",
    "z=torch.randn(batch, latent_dim)\n",
    "z.shape\n",
    "z=torch.tensor(z)\n",
    "label=torch.randint(1,num_class , (batch,))\n",
    "label=torch.tensor(label)\n",
    "\n",
    "model_Gen(z.to(device), label.to(device))\n"
   ]
  },
  {
   "cell_type": "code",
   "execution_count": 6,
   "id": "ec6a5435",
   "metadata": {
    "execution": {
     "iopub.execute_input": "2025-08-11T20:19:56.000956Z",
     "iopub.status.busy": "2025-08-11T20:19:56.000635Z",
     "iopub.status.idle": "2025-08-11T20:19:56.019595Z",
     "shell.execute_reply": "2025-08-11T20:19:56.018641Z"
    },
    "papermill": {
     "duration": 0.025286,
     "end_time": "2025-08-11T20:19:56.021208",
     "exception": false,
     "start_time": "2025-08-11T20:19:55.995922",
     "status": "completed"
    },
    "tags": []
   },
   "outputs": [
    {
     "data": {
      "text/plain": [
       "Discriminator(\n",
       "  (label_embd): Embedding(10, 20)\n",
       "  (model): Sequential(\n",
       "    (0): Linear(in_features=804, out_features=256, bias=True)\n",
       "    (1): LeakyReLU(negative_slope=0.2)\n",
       "    (2): Linear(in_features=256, out_features=512, bias=True)\n",
       "    (3): LeakyReLU(negative_slope=0.2)\n",
       "    (4): Linear(in_features=512, out_features=1024, bias=True)\n",
       "    (5): LeakyReLU(negative_slope=0.2)\n",
       "    (6): Linear(in_features=1024, out_features=1, bias=True)\n",
       "    (7): Sigmoid()\n",
       "  )\n",
       ")"
      ]
     },
     "execution_count": 6,
     "metadata": {},
     "output_type": "execute_result"
    }
   ],
   "source": [
    "class Discriminator(nn.Module):\n",
    "    def __init__(self):\n",
    "        super(Discriminator, self).__init__()\n",
    "        self.label_embd=nn.Embedding(num_class, embed_len)\n",
    "        self.model=nn.Sequential(\n",
    "            nn.Linear(img_size+embed_len, 256),\n",
    "            nn.LeakyReLU(0.2),\n",
    "            nn.Linear(256, 512),\n",
    "            nn.LeakyReLU(0.2),\n",
    "            nn.Linear(512,1024),\n",
    "            nn.LeakyReLU(0.2),\n",
    "            nn.Linear(1024,1),\n",
    "            nn.Sigmoid()\n",
    "            \n",
    "        )\n",
    "    def forward(self, img, label):\n",
    "        c=self.label_embd(label)\n",
    "        x=torch.cat([img,c], dim=1)\n",
    "        return self.model(x)\n",
    "\n",
    "\n",
    "model_Dis=Discriminator().to(device)\n",
    "model_Dis"
   ]
  },
  {
   "cell_type": "code",
   "execution_count": 7,
   "id": "902fc700",
   "metadata": {
    "execution": {
     "iopub.execute_input": "2025-08-11T20:19:56.029738Z",
     "iopub.status.busy": "2025-08-11T20:19:56.029405Z",
     "iopub.status.idle": "2025-08-11T20:19:56.046084Z",
     "shell.execute_reply": "2025-08-11T20:19:56.045378Z"
    },
    "papermill": {
     "duration": 0.022509,
     "end_time": "2025-08-11T20:19:56.047407",
     "exception": false,
     "start_time": "2025-08-11T20:19:56.024898",
     "status": "completed"
    },
    "tags": []
   },
   "outputs": [
    {
     "data": {
      "text/plain": [
       "torch.Size([32, 1])"
      ]
     },
     "execution_count": 7,
     "metadata": {},
     "output_type": "execute_result"
    }
   ],
   "source": [
    "img=torch.rand(batch,28,28)\n",
    "img.shape\n",
    "# img=nn.Flatten(img)\n",
    "type(img)\n",
    "\n",
    "img.shape\n",
    "\n",
    "img_gen=img.view(img.size(0),-1).to(device)\n",
    "img_gen.shape\n",
    "\n",
    "label=torch.randint(0,num_class,(batch,))\n",
    "\n",
    "p=model_Dis(img_gen, label)\n",
    "p.shape"
   ]
  },
  {
   "cell_type": "code",
   "execution_count": 8,
   "id": "d5e5f82f",
   "metadata": {
    "execution": {
     "iopub.execute_input": "2025-08-11T20:19:56.056111Z",
     "iopub.status.busy": "2025-08-11T20:19:56.055617Z",
     "iopub.status.idle": "2025-08-11T20:19:56.065323Z",
     "shell.execute_reply": "2025-08-11T20:19:56.064587Z"
    },
    "papermill": {
     "duration": 0.015549,
     "end_time": "2025-08-11T20:19:56.066684",
     "exception": false,
     "start_time": "2025-08-11T20:19:56.051135",
     "status": "completed"
    },
    "tags": []
   },
   "outputs": [],
   "source": [
    "loss_fn=nn.BCELoss()\n",
    "\n",
    "optimizer_G=torch.optim.Adam(params=model_Gen.parameters(),lr=lr)\n",
    "\n",
    "optimizer_D=torch.optim.Adam(params=model_Dis.parameters(),lr=lr)\n",
    "\n",
    "fixed_noise=torch.randn(16, latent_dim)\n",
    "fixed_noise.shape\n",
    "fixed_labels = torch.arange(0, 8).repeat(2).to(device)\n",
    "\n",
    "fixed_labels.shape\n",
    "os.makedirs(\"cgan_outputs\", exist_ok=True)"
   ]
  },
  {
   "cell_type": "code",
   "execution_count": 9,
   "id": "b2f44a31",
   "metadata": {
    "execution": {
     "iopub.execute_input": "2025-08-11T20:19:56.075487Z",
     "iopub.status.busy": "2025-08-11T20:19:56.074798Z",
     "iopub.status.idle": "2025-08-11T20:19:56.274278Z",
     "shell.execute_reply": "2025-08-11T20:19:56.273176Z"
    },
    "papermill": {
     "duration": 0.205231,
     "end_time": "2025-08-11T20:19:56.275794",
     "exception": false,
     "start_time": "2025-08-11T20:19:56.070563",
     "status": "completed"
    },
    "tags": []
   },
   "outputs": [
    {
     "name": "stdout",
     "output_type": "stream",
     "text": [
      "tensor([2, 9, 9, 9, 0, 2, 2, 6, 6, 0, 0, 6, 5, 9, 1, 2, 6, 8, 9, 9, 1, 9, 3, 6,\n",
      "        6, 2, 8, 2, 6, 7, 1, 6, 3, 4, 2, 0, 7, 9, 7, 4, 8, 0, 7, 6, 9, 4, 0, 1,\n",
      "        8, 0, 6, 3, 7, 8, 4, 7, 6, 7, 4, 5, 1, 3, 8, 1])\n",
      "torch.Size([64, 1, 28, 28])\n",
      "torch.Size([64, 20])\n",
      "torch.Size([64, 100])\n",
      "torch.Size([64, 120])\n",
      "torch.Size([64, 1])\n",
      "[D loss: 1.3940] [G loss: 0.6916]\n",
      "tensor([2, 9, 0, 4, 2, 8, 0, 1, 1, 3, 8, 6, 9, 9, 4, 7, 3, 8, 9, 6, 2, 6, 7, 3,\n",
      "        9, 9, 4, 9, 4, 0, 1, 9, 6, 3, 5, 0, 6, 0, 9, 5, 8, 3, 6, 9, 9, 0, 4, 8,\n",
      "        9, 1, 8, 0, 2, 9, 1, 8, 3, 3, 0, 8, 3, 0, 8, 5])\n",
      "torch.Size([64, 1, 28, 28])\n",
      "torch.Size([64, 20])\n",
      "torch.Size([64, 100])\n",
      "torch.Size([64, 120])\n",
      "torch.Size([64, 1])\n",
      "[D loss: 1.3199] [G loss: 0.6903]\n",
      "torch.Size([16, 20])\n",
      "torch.Size([16, 100])\n",
      "torch.Size([16, 120])\n"
     ]
    }
   ],
   "source": [
    "epoch=1\n",
    "# for epochs in range(epoch)\n",
    "for i, (img, label) in enumerate(train_loader):\n",
    "    if i>1:\n",
    "        break\n",
    "    print(label)\n",
    "    print(img.shape)\n",
    "    \n",
    "\n",
    "    batch_current=img.size(0)\n",
    "    real_label=torch.full((batch_current, 1), 0.9, device=device)\n",
    "    fake_label=torch.zeros(batch_current,1).to(device)\n",
    "    real_img=img.view(batch_current,-1)\n",
    "    real_img=real_img.to(device)\n",
    "    #Discriminator\n",
    "    optimizer_D.zero_grad()\n",
    "    real_out=model_Dis(real_img, label)\n",
    "    real_loss=loss_fn(real_out,real_label)\n",
    "\n",
    "\n",
    "\n",
    "    z=torch.randn(batch_current, latent_dim).to(device)\n",
    "    fake_img=model_Gen(z,label)\n",
    "    fake_img=fake_img.view(batch_current,-1)\n",
    "    fake_out=model_Dis(fake_img.detach(),label)\n",
    "    print(fake_out.shape)\n",
    "    fake_loss=loss_fn(fake_out, fake_label)\n",
    "\n",
    "    total_loss=real_loss + fake_loss\n",
    "    total_loss.backward()\n",
    "    optimizer_D.step()\n",
    "    #Generator Training\n",
    "\n",
    "\n",
    "    optimizer_G.zero_grad()\n",
    "    gen_valid=model_Dis(fake_img, label)\n",
    "    gen_loss=loss_fn(gen_valid, real_label)\n",
    "    gen_loss.backward()\n",
    "    optimizer_G.step()\n",
    "    if i % 1 == 0:\n",
    "            # print(f\"[Epoch {epoch+1}/{epochs}] [Batch {i}/{len(train_loader)}] \"\n",
    "            #       f\"[D loss: {d_loss.item():.4f}] [G loss: {g_loss.item():.4f}]\")\n",
    "        print(f\"[D loss: {total_loss.item():.4f}] [G loss: {gen_loss.item():.4f}]\")\n",
    "with torch.no_grad():\n",
    "    generated = model_Gen(fixed_noise, fixed_labels).view(-1, 1, 28, 28)\n",
    "    save_image(generated, f\"cgan_outputs/sample_epoch_{epoch+1}.png\", normalize=True)\n",
    "    \n",
    "    \n",
    "\n",
    "    \n",
    "    \n",
    "    \n",
    "    \n",
    "    \n",
    "    \n",
    "    \n",
    "    "
   ]
  }
 ],
 "metadata": {
  "kaggle": {
   "accelerator": "none",
   "dataSources": [],
   "dockerImageVersionId": 31089,
   "isGpuEnabled": false,
   "isInternetEnabled": true,
   "language": "python",
   "sourceType": "notebook"
  },
  "kernelspec": {
   "display_name": "Python 3",
   "language": "python",
   "name": "python3"
  },
  "language_info": {
   "codemirror_mode": {
    "name": "ipython",
    "version": 3
   },
   "file_extension": ".py",
   "mimetype": "text/x-python",
   "name": "python",
   "nbconvert_exporter": "python",
   "pygments_lexer": "ipython3",
   "version": "3.11.13"
  },
  "papermill": {
   "default_parameters": {},
   "duration": 22.899854,
   "end_time": "2025-08-11T20:19:58.203406",
   "environment_variables": {},
   "exception": null,
   "input_path": "__notebook__.ipynb",
   "output_path": "__notebook__.ipynb",
   "parameters": {},
   "start_time": "2025-08-11T20:19:35.303552",
   "version": "2.6.0"
  }
 },
 "nbformat": 4,
 "nbformat_minor": 5
}
