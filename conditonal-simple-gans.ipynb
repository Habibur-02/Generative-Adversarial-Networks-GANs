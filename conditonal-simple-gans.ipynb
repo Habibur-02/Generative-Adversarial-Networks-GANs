{
 "cells": [
  {
   "cell_type": "code",
   "execution_count": 1,
   "id": "aaaf29a5",
   "metadata": {
    "_cell_guid": "b1076dfc-b9ad-4769-8c92-a6c4dae69d19",
    "_uuid": "8f2839f25d086af736a60e9eeb907d3b93b6e0e5",
    "execution": {
     "iopub.execute_input": "2025-08-11T15:58:30.980877Z",
     "iopub.status.busy": "2025-08-11T15:58:30.980002Z",
     "iopub.status.idle": "2025-08-11T15:58:33.606278Z",
     "shell.execute_reply": "2025-08-11T15:58:33.604937Z"
    },
    "papermill": {
     "duration": 2.632446,
     "end_time": "2025-08-11T15:58:33.608359",
     "exception": false,
     "start_time": "2025-08-11T15:58:30.975913",
     "status": "completed"
    },
    "tags": []
   },
   "outputs": [],
   "source": [
    "# This Python 3 environment comes with many helpful analytics libraries installed\n",
    "# It is defined by the kaggle/python Docker image: https://github.com/kaggle/docker-python\n",
    "# For example, here's several helpful packages to load\n",
    "\n",
    "import numpy as np # linear algebra\n",
    "import pandas as pd # data processing, CSV file I/O (e.g. pd.read_csv)\n",
    "\n",
    "# Input data files are available in the read-only \"../input/\" directory\n",
    "# For example, running this (by clicking run or pressing Shift+Enter) will list all files under the input directory\n",
    "\n",
    "import os\n",
    "for dirname, _, filenames in os.walk('/kaggle/input'):\n",
    "    for filename in filenames:\n",
    "        print(os.path.join(dirname, filename))\n",
    "\n",
    "# You can write up to 20GB to the current directory (/kaggle/working/) that gets preserved as output when you create a version using \"Save & Run All\" \n",
    "# You can also write temporary files to /kaggle/temp/, but they won't be saved outside of the current session"
   ]
  },
  {
   "cell_type": "code",
   "execution_count": 2,
   "id": "35fa801e",
   "metadata": {
    "execution": {
     "iopub.execute_input": "2025-08-11T15:58:33.614889Z",
     "iopub.status.busy": "2025-08-11T15:58:33.614415Z",
     "iopub.status.idle": "2025-08-11T15:58:49.042916Z",
     "shell.execute_reply": "2025-08-11T15:58:49.041469Z"
    },
    "papermill": {
     "duration": 15.43405,
     "end_time": "2025-08-11T15:58:49.045253",
     "exception": false,
     "start_time": "2025-08-11T15:58:33.611203",
     "status": "completed"
    },
    "tags": []
   },
   "outputs": [],
   "source": [
    "import torch\n",
    "import torch.nn as nn\n",
    "from torch.utils.data import DataLoader\n",
    "from torchvision import datasets, transforms\n",
    "from torchvision.utils import save_image\n",
    "import os"
   ]
  },
  {
   "cell_type": "code",
   "execution_count": 3,
   "id": "fa9657d6",
   "metadata": {
    "execution": {
     "iopub.execute_input": "2025-08-11T15:58:49.051734Z",
     "iopub.status.busy": "2025-08-11T15:58:49.051229Z",
     "iopub.status.idle": "2025-08-11T15:58:49.109786Z",
     "shell.execute_reply": "2025-08-11T15:58:49.108524Z"
    },
    "papermill": {
     "duration": 0.064011,
     "end_time": "2025-08-11T15:58:49.111939",
     "exception": false,
     "start_time": "2025-08-11T15:58:49.047928",
     "status": "completed"
    },
    "tags": []
   },
   "outputs": [
    {
     "data": {
      "text/plain": [
       "tensor([[-0.6348, -0.2979, -0.6596,  0.2679,  0.1256,  0.4561, -0.4180, -0.8383,\n",
       "          0.5935,  0.2120],\n",
       "        [-0.6348, -0.2979, -0.6596,  0.2679,  0.1256,  0.4561, -0.4180, -0.8383,\n",
       "          0.5935,  0.2120],\n",
       "        [ 1.4475,  1.9420,  0.6954, -1.4030, -1.8511, -0.8942,  0.2734,  0.4530,\n",
       "          0.6867, -0.1553],\n",
       "        [ 1.4475,  1.9420,  0.6954, -1.4030, -1.8511, -0.8942,  0.2734,  0.4530,\n",
       "          0.6867, -0.1553]], grad_fn=<EmbeddingBackward0>)"
      ]
     },
     "execution_count": 3,
     "metadata": {},
     "output_type": "execute_result"
    }
   ],
   "source": [
    "embedding=nn.Embedding(5,10)\n",
    "embedding(torch.tensor([0,0,1,1]))\n",
    "\n"
   ]
  },
  {
   "cell_type": "code",
   "execution_count": 4,
   "id": "8c62e428",
   "metadata": {
    "execution": {
     "iopub.execute_input": "2025-08-11T15:58:49.118397Z",
     "iopub.status.busy": "2025-08-11T15:58:49.117967Z",
     "iopub.status.idle": "2025-08-11T15:58:49.138158Z",
     "shell.execute_reply": "2025-08-11T15:58:49.137009Z"
    },
    "papermill": {
     "duration": 0.025927,
     "end_time": "2025-08-11T15:58:49.140561",
     "exception": false,
     "start_time": "2025-08-11T15:58:49.114634",
     "status": "completed"
    },
    "tags": []
   },
   "outputs": [
    {
     "data": {
      "text/plain": [
       "Generator(\n",
       "  (label_embedding): Embedding(10, 20)\n",
       "  (model): Sequential(\n",
       "    (0): Linear(in_features=120, out_features=128, bias=True)\n",
       "    (1): LeakyReLU(negative_slope=0.2)\n",
       "    (2): Linear(in_features=128, out_features=256, bias=True)\n",
       "    (3): LeakyReLU(negative_slope=0.2)\n",
       "    (4): Linear(in_features=256, out_features=512, bias=True)\n",
       "    (5): Linear(in_features=512, out_features=784, bias=True)\n",
       "    (6): Tanh()\n",
       "  )\n",
       ")"
      ]
     },
     "execution_count": 4,
     "metadata": {},
     "output_type": "execute_result"
    }
   ],
   "source": [
    "num_class=10\n",
    "embed_len=20\n",
    "latent_dim=100\n",
    "img_size=28*28\n",
    "class Generator(nn.Module):\n",
    "    def __init__(self):\n",
    "        super(Generator, self).__init__()\n",
    "        self.label_embedding=nn.Embedding(num_class,embed_len)\n",
    "        self.model=nn.Sequential(\n",
    "            nn.Linear(latent_dim+embed_len, 128),\n",
    "            nn.LeakyReLU(0.2),\n",
    "            nn.Linear(128, 256),\n",
    "            nn.LeakyReLU(0.2),\n",
    "            nn.Linear(256, 512),\n",
    "            nn.Linear(512, img_size),\n",
    "            nn.Tanh()\n",
    "            \n",
    "        )\n",
    "    def forward(self, z, label):\n",
    "        # print(label.shape)\n",
    "        c=self.label_embedding(label)\n",
    "        print(c.shape)\n",
    "        print(z.shape)\n",
    "        x=torch.cat([z,c],dim=1)\n",
    "        print(x.shape)\n",
    "        return self.model(x)\n",
    "        \n",
    "\n",
    "model_Gen=Generator()\n",
    "model_Gen\n",
    "\n"
   ]
  },
  {
   "cell_type": "code",
   "execution_count": 5,
   "id": "b7550dd4",
   "metadata": {
    "execution": {
     "iopub.execute_input": "2025-08-11T15:58:49.147659Z",
     "iopub.status.busy": "2025-08-11T15:58:49.147091Z",
     "iopub.status.idle": "2025-08-11T15:58:49.208937Z",
     "shell.execute_reply": "2025-08-11T15:58:49.207556Z"
    },
    "papermill": {
     "duration": 0.067528,
     "end_time": "2025-08-11T15:58:49.210736",
     "exception": false,
     "start_time": "2025-08-11T15:58:49.143208",
     "status": "completed"
    },
    "tags": []
   },
   "outputs": [
    {
     "name": "stdout",
     "output_type": "stream",
     "text": [
      "torch.Size([32, 20])\n",
      "torch.Size([32, 100])\n",
      "torch.Size([32, 120])\n"
     ]
    },
    {
     "name": "stderr",
     "output_type": "stream",
     "text": [
      "/tmp/ipykernel_13/1990782055.py:4: UserWarning: To copy construct from a tensor, it is recommended to use sourceTensor.clone().detach() or sourceTensor.clone().detach().requires_grad_(True), rather than torch.tensor(sourceTensor).\n",
      "  z=torch.tensor(z)\n",
      "/tmp/ipykernel_13/1990782055.py:6: UserWarning: To copy construct from a tensor, it is recommended to use sourceTensor.clone().detach() or sourceTensor.clone().detach().requires_grad_(True), rather than torch.tensor(sourceTensor).\n",
      "  label=torch.tensor(label)\n"
     ]
    },
    {
     "data": {
      "text/plain": [
       "tensor([[-0.0765, -0.1074, -0.0258,  ..., -0.1278, -0.0528,  0.1366],\n",
       "        [ 0.0442, -0.1136, -0.0896,  ..., -0.1182, -0.0162,  0.1668],\n",
       "        [-0.1378, -0.1402, -0.0244,  ..., -0.0398,  0.0213,  0.1687],\n",
       "        ...,\n",
       "        [-0.0060, -0.0339, -0.0504,  ..., -0.1410,  0.0018,  0.1334],\n",
       "        [-0.0381, -0.0606, -0.0083,  ..., -0.0720, -0.0602,  0.1782],\n",
       "        [-0.0779, -0.0465, -0.0526,  ...,  0.0192, -0.0685,  0.1588]],\n",
       "       grad_fn=<TanhBackward0>)"
      ]
     },
     "execution_count": 5,
     "metadata": {},
     "output_type": "execute_result"
    }
   ],
   "source": [
    "batch=32\n",
    "z=torch.randn(batch, latent_dim)\n",
    "z.shape\n",
    "z=torch.tensor(z)\n",
    "label=torch.randint(1,num_class , (batch,))\n",
    "label=torch.tensor(label)\n",
    "\n",
    "model_Gen(z, label)"
   ]
  }
 ],
 "metadata": {
  "kaggle": {
   "accelerator": "none",
   "dataSources": [],
   "dockerImageVersionId": 31089,
   "isGpuEnabled": false,
   "isInternetEnabled": true,
   "language": "python",
   "sourceType": "notebook"
  },
  "kernelspec": {
   "display_name": "Python 3",
   "language": "python",
   "name": "python3"
  },
  "language_info": {
   "codemirror_mode": {
    "name": "ipython",
    "version": 3
   },
   "file_extension": ".py",
   "mimetype": "text/x-python",
   "name": "python",
   "nbconvert_exporter": "python",
   "pygments_lexer": "ipython3",
   "version": "3.11.13"
  },
  "papermill": {
   "default_parameters": {},
   "duration": 27.466064,
   "end_time": "2025-08-11T15:58:52.253794",
   "environment_variables": {},
   "exception": null,
   "input_path": "__notebook__.ipynb",
   "output_path": "__notebook__.ipynb",
   "parameters": {},
   "start_time": "2025-08-11T15:58:24.787730",
   "version": "2.6.0"
  }
 },
 "nbformat": 4,
 "nbformat_minor": 5
}
