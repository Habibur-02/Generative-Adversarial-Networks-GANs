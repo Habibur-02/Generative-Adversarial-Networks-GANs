{
 "cells": [
  {
   "cell_type": "code",
   "execution_count": 1,
   "id": "7b2df5f7",
   "metadata": {
    "_cell_guid": "b1076dfc-b9ad-4769-8c92-a6c4dae69d19",
    "_uuid": "8f2839f25d086af736a60e9eeb907d3b93b6e0e5",
    "execution": {
     "iopub.execute_input": "2025-08-11T16:02:46.303725Z",
     "iopub.status.busy": "2025-08-11T16:02:46.303425Z",
     "iopub.status.idle": "2025-08-11T16:02:48.513503Z",
     "shell.execute_reply": "2025-08-11T16:02:48.512448Z"
    },
    "papermill": {
     "duration": 2.215833,
     "end_time": "2025-08-11T16:02:48.515238",
     "exception": false,
     "start_time": "2025-08-11T16:02:46.299405",
     "status": "completed"
    },
    "tags": []
   },
   "outputs": [],
   "source": [
    "# This Python 3 environment comes with many helpful analytics libraries installed\n",
    "# It is defined by the kaggle/python Docker image: https://github.com/kaggle/docker-python\n",
    "# For example, here's several helpful packages to load\n",
    "\n",
    "import numpy as np # linear algebra\n",
    "import pandas as pd # data processing, CSV file I/O (e.g. pd.read_csv)\n",
    "\n",
    "# Input data files are available in the read-only \"../input/\" directory\n",
    "# For example, running this (by clicking run or pressing Shift+Enter) will list all files under the input directory\n",
    "\n",
    "import os\n",
    "for dirname, _, filenames in os.walk('/kaggle/input'):\n",
    "    for filename in filenames:\n",
    "        print(os.path.join(dirname, filename))\n",
    "\n",
    "# You can write up to 20GB to the current directory (/kaggle/working/) that gets preserved as output when you create a version using \"Save & Run All\" \n",
    "# You can also write temporary files to /kaggle/temp/, but they won't be saved outside of the current session"
   ]
  },
  {
   "cell_type": "code",
   "execution_count": 2,
   "id": "6faaef7f",
   "metadata": {
    "execution": {
     "iopub.execute_input": "2025-08-11T16:02:48.522541Z",
     "iopub.status.busy": "2025-08-11T16:02:48.522100Z",
     "iopub.status.idle": "2025-08-11T16:03:01.935811Z",
     "shell.execute_reply": "2025-08-11T16:03:01.934513Z"
    },
    "papermill": {
     "duration": 13.419596,
     "end_time": "2025-08-11T16:03:01.937832",
     "exception": false,
     "start_time": "2025-08-11T16:02:48.518236",
     "status": "completed"
    },
    "tags": []
   },
   "outputs": [],
   "source": [
    "import torch\n",
    "import torch.nn as nn\n",
    "from torch.utils.data import DataLoader\n",
    "from torchvision import datasets, transforms\n",
    "from torchvision.utils import save_image\n",
    "import os"
   ]
  },
  {
   "cell_type": "code",
   "execution_count": 3,
   "id": "9cce45e0",
   "metadata": {
    "execution": {
     "iopub.execute_input": "2025-08-11T16:03:01.945400Z",
     "iopub.status.busy": "2025-08-11T16:03:01.944895Z",
     "iopub.status.idle": "2025-08-11T16:03:02.012866Z",
     "shell.execute_reply": "2025-08-11T16:03:02.011191Z"
    },
    "papermill": {
     "duration": 0.073461,
     "end_time": "2025-08-11T16:03:02.014531",
     "exception": false,
     "start_time": "2025-08-11T16:03:01.941070",
     "status": "completed"
    },
    "tags": []
   },
   "outputs": [
    {
     "data": {
      "text/plain": [
       "tensor([[ 0.5825,  0.7791,  1.0392,  0.8744,  2.4429,  1.8319, -0.1873, -1.0729,\n",
       "         -1.3501, -1.8906],\n",
       "        [ 0.5825,  0.7791,  1.0392,  0.8744,  2.4429,  1.8319, -0.1873, -1.0729,\n",
       "         -1.3501, -1.8906],\n",
       "        [ 0.9430, -0.3195, -0.6365,  0.5277, -0.8741,  1.2561,  0.0276,  0.3325,\n",
       "          0.3599,  0.9477],\n",
       "        [ 0.9430, -0.3195, -0.6365,  0.5277, -0.8741,  1.2561,  0.0276,  0.3325,\n",
       "          0.3599,  0.9477]], grad_fn=<EmbeddingBackward0>)"
      ]
     },
     "execution_count": 3,
     "metadata": {},
     "output_type": "execute_result"
    }
   ],
   "source": [
    "embedding=nn.Embedding(5,10)\n",
    "embedding(torch.tensor([0,0,1,1]))\n",
    "\n"
   ]
  },
  {
   "cell_type": "code",
   "execution_count": 4,
   "id": "d240d149",
   "metadata": {
    "execution": {
     "iopub.execute_input": "2025-08-11T16:03:02.021646Z",
     "iopub.status.busy": "2025-08-11T16:03:02.021223Z",
     "iopub.status.idle": "2025-08-11T16:03:02.048335Z",
     "shell.execute_reply": "2025-08-11T16:03:02.047058Z"
    },
    "papermill": {
     "duration": 0.033341,
     "end_time": "2025-08-11T16:03:02.050396",
     "exception": false,
     "start_time": "2025-08-11T16:03:02.017055",
     "status": "completed"
    },
    "tags": []
   },
   "outputs": [
    {
     "data": {
      "text/plain": [
       "Generator(\n",
       "  (label_embedding): Embedding(10, 20)\n",
       "  (model): Sequential(\n",
       "    (0): Linear(in_features=120, out_features=128, bias=True)\n",
       "    (1): LeakyReLU(negative_slope=0.2)\n",
       "    (2): Linear(in_features=128, out_features=256, bias=True)\n",
       "    (3): LeakyReLU(negative_slope=0.2)\n",
       "    (4): Linear(in_features=256, out_features=512, bias=True)\n",
       "    (5): Linear(in_features=512, out_features=784, bias=True)\n",
       "    (6): Tanh()\n",
       "  )\n",
       ")"
      ]
     },
     "execution_count": 4,
     "metadata": {},
     "output_type": "execute_result"
    }
   ],
   "source": [
    "num_class=10\n",
    "embed_len=20\n",
    "latent_dim=100\n",
    "img_size=28*28\n",
    "class Generator(nn.Module):\n",
    "    def __init__(self):\n",
    "        super(Generator, self).__init__()\n",
    "        self.label_embedding=nn.Embedding(num_class,embed_len)\n",
    "        self.model=nn.Sequential(\n",
    "            nn.Linear(latent_dim+embed_len, 128),\n",
    "            nn.LeakyReLU(0.2),\n",
    "            nn.Linear(128, 256),\n",
    "            nn.LeakyReLU(0.2),\n",
    "            nn.Linear(256, 512),\n",
    "            nn.Linear(512, img_size),\n",
    "            nn.Tanh()\n",
    "            \n",
    "        )\n",
    "    def forward(self, z, label):\n",
    "        # print(label.shape)\n",
    "        c=self.label_embedding(label)\n",
    "        print(c.shape)\n",
    "        print(z.shape)\n",
    "        x=torch.cat([z,c],dim=1)\n",
    "        print(x.shape)\n",
    "        return self.model(x)\n",
    "        \n",
    "device = torch.device(\"cuda\" if torch.cuda.is_available() else \"cpu\")\n",
    "model_Gen=Generator().to(device)\n",
    "model_Gen\n",
    "\n"
   ]
  },
  {
   "cell_type": "code",
   "execution_count": 5,
   "id": "db2a390a",
   "metadata": {
    "execution": {
     "iopub.execute_input": "2025-08-11T16:03:02.056808Z",
     "iopub.status.busy": "2025-08-11T16:03:02.056502Z",
     "iopub.status.idle": "2025-08-11T16:03:02.114345Z",
     "shell.execute_reply": "2025-08-11T16:03:02.113050Z"
    },
    "papermill": {
     "duration": 0.06329,
     "end_time": "2025-08-11T16:03:02.116314",
     "exception": false,
     "start_time": "2025-08-11T16:03:02.053024",
     "status": "completed"
    },
    "tags": []
   },
   "outputs": [
    {
     "name": "stdout",
     "output_type": "stream",
     "text": [
      "torch.Size([32, 20])\n",
      "torch.Size([32, 100])\n",
      "torch.Size([32, 120])\n"
     ]
    },
    {
     "name": "stderr",
     "output_type": "stream",
     "text": [
      "/tmp/ipykernel_13/1855804749.py:4: UserWarning: To copy construct from a tensor, it is recommended to use sourceTensor.clone().detach() or sourceTensor.clone().detach().requires_grad_(True), rather than torch.tensor(sourceTensor).\n",
      "  z=torch.tensor(z)\n",
      "/tmp/ipykernel_13/1855804749.py:6: UserWarning: To copy construct from a tensor, it is recommended to use sourceTensor.clone().detach() or sourceTensor.clone().detach().requires_grad_(True), rather than torch.tensor(sourceTensor).\n",
      "  label=torch.tensor(label)\n"
     ]
    },
    {
     "data": {
      "text/plain": [
       "tensor([[ 0.0082, -0.0518,  0.0612,  ...,  0.0834,  0.1702,  0.1147],\n",
       "        [-0.0361, -0.0629,  0.1009,  ...,  0.1406, -0.0341,  0.1150],\n",
       "        [ 0.0023, -0.0721,  0.0384,  ...,  0.0866, -0.0122,  0.0854],\n",
       "        ...,\n",
       "        [-0.0131, -0.0034,  0.0772,  ...,  0.0785, -0.0126,  0.0815],\n",
       "        [ 0.1361, -0.0255,  0.0099,  ...,  0.0038, -0.0451,  0.1729],\n",
       "        [ 0.0490,  0.0054,  0.0538,  ...,  0.0758,  0.0363,  0.0607]],\n",
       "       grad_fn=<TanhBackward0>)"
      ]
     },
     "execution_count": 5,
     "metadata": {},
     "output_type": "execute_result"
    }
   ],
   "source": [
    "batch=32\n",
    "z=torch.randn(batch, latent_dim)\n",
    "z.shape\n",
    "z=torch.tensor(z)\n",
    "label=torch.randint(1,num_class , (batch,))\n",
    "label=torch.tensor(label)\n",
    "\n",
    "model_Gen(z.to(device), label.to(device))"
   ]
  },
  {
   "cell_type": "code",
   "execution_count": null,
   "id": "de91970b",
   "metadata": {
    "papermill": {
     "duration": 0.002489,
     "end_time": "2025-08-11T16:03:02.121550",
     "exception": false,
     "start_time": "2025-08-11T16:03:02.119061",
     "status": "completed"
    },
    "tags": []
   },
   "outputs": [],
   "source": []
  },
  {
   "cell_type": "code",
   "execution_count": null,
   "id": "46908475",
   "metadata": {
    "papermill": {
     "duration": 0.002285,
     "end_time": "2025-08-11T16:03:02.126443",
     "exception": false,
     "start_time": "2025-08-11T16:03:02.124158",
     "status": "completed"
    },
    "tags": []
   },
   "outputs": [],
   "source": []
  },
  {
   "cell_type": "code",
   "execution_count": null,
   "id": "ba98cc9e",
   "metadata": {
    "papermill": {
     "duration": 0.002527,
     "end_time": "2025-08-11T16:03:02.131913",
     "exception": false,
     "start_time": "2025-08-11T16:03:02.129386",
     "status": "completed"
    },
    "tags": []
   },
   "outputs": [],
   "source": []
  }
 ],
 "metadata": {
  "kaggle": {
   "accelerator": "none",
   "dataSources": [],
   "dockerImageVersionId": 31089,
   "isGpuEnabled": false,
   "isInternetEnabled": true,
   "language": "python",
   "sourceType": "notebook"
  },
  "kernelspec": {
   "display_name": "Python 3",
   "language": "python",
   "name": "python3"
  },
  "language_info": {
   "codemirror_mode": {
    "name": "ipython",
    "version": 3
   },
   "file_extension": ".py",
   "mimetype": "text/x-python",
   "name": "python",
   "nbconvert_exporter": "python",
   "pygments_lexer": "ipython3",
   "version": "3.11.13"
  },
  "papermill": {
   "default_parameters": {},
   "duration": 24.26421,
   "end_time": "2025-08-11T16:03:05.226052",
   "environment_variables": {},
   "exception": null,
   "input_path": "__notebook__.ipynb",
   "output_path": "__notebook__.ipynb",
   "parameters": {},
   "start_time": "2025-08-11T16:02:40.961842",
   "version": "2.6.0"
  }
 },
 "nbformat": 4,
 "nbformat_minor": 5
}
