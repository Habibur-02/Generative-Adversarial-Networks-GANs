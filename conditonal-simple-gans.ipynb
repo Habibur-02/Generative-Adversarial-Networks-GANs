{
 "cells": [
  {
   "cell_type": "code",
   "execution_count": 1,
   "id": "cabb4edd",
   "metadata": {
    "_cell_guid": "b1076dfc-b9ad-4769-8c92-a6c4dae69d19",
    "_uuid": "8f2839f25d086af736a60e9eeb907d3b93b6e0e5",
    "execution": {
     "iopub.execute_input": "2025-08-11T19:24:13.852516Z",
     "iopub.status.busy": "2025-08-11T19:24:13.852226Z",
     "iopub.status.idle": "2025-08-11T19:24:15.618196Z",
     "shell.execute_reply": "2025-08-11T19:24:15.617429Z"
    },
    "papermill": {
     "duration": 1.771473,
     "end_time": "2025-08-11T19:24:15.619686",
     "exception": false,
     "start_time": "2025-08-11T19:24:13.848213",
     "status": "completed"
    },
    "tags": []
   },
   "outputs": [],
   "source": [
    "# This Python 3 environment comes with many helpful analytics libraries installed\n",
    "# It is defined by the kaggle/python Docker image: https://github.com/kaggle/docker-python\n",
    "# For example, here's several helpful packages to load\n",
    "\n",
    "import numpy as np # linear algebra\n",
    "import pandas as pd # data processing, CSV file I/O (e.g. pd.read_csv)\n",
    "\n",
    "# Input data files are available in the read-only \"../input/\" directory\n",
    "# For example, running this (by clicking run or pressing Shift+Enter) will list all files under the input directory\n",
    "\n",
    "import os\n",
    "for dirname, _, filenames in os.walk('/kaggle/input'):\n",
    "    for filename in filenames:\n",
    "        print(os.path.join(dirname, filename))\n",
    "\n",
    "# You can write up to 20GB to the current directory (/kaggle/working/) that gets preserved as output when you create a version using \"Save & Run All\" \n",
    "# You can also write temporary files to /kaggle/temp/, but they won't be saved outside of the current session"
   ]
  },
  {
   "cell_type": "code",
   "execution_count": 2,
   "id": "0e45d0a1",
   "metadata": {
    "execution": {
     "iopub.execute_input": "2025-08-11T19:24:15.625513Z",
     "iopub.status.busy": "2025-08-11T19:24:15.625164Z",
     "iopub.status.idle": "2025-08-11T19:24:27.093308Z",
     "shell.execute_reply": "2025-08-11T19:24:27.091984Z"
    },
    "papermill": {
     "duration": 11.472531,
     "end_time": "2025-08-11T19:24:27.094906",
     "exception": false,
     "start_time": "2025-08-11T19:24:15.622375",
     "status": "completed"
    },
    "tags": []
   },
   "outputs": [],
   "source": [
    "import torch\n",
    "import torch.nn as nn\n",
    "from torch.utils.data import DataLoader\n",
    "from torchvision import datasets, transforms\n",
    "from torchvision.utils import save_image\n",
    "import os"
   ]
  },
  {
   "cell_type": "code",
   "execution_count": 3,
   "id": "a8de701d",
   "metadata": {
    "execution": {
     "iopub.execute_input": "2025-08-11T19:24:27.100839Z",
     "iopub.status.busy": "2025-08-11T19:24:27.100362Z",
     "iopub.status.idle": "2025-08-11T19:24:27.141369Z",
     "shell.execute_reply": "2025-08-11T19:24:27.140454Z"
    },
    "papermill": {
     "duration": 0.045532,
     "end_time": "2025-08-11T19:24:27.142885",
     "exception": false,
     "start_time": "2025-08-11T19:24:27.097353",
     "status": "completed"
    },
    "tags": []
   },
   "outputs": [
    {
     "data": {
      "text/plain": [
       "tensor([[-0.2830,  0.5444,  1.0640,  1.2131, -0.8034, -0.6937,  0.3677, -0.2235,\n",
       "         -1.4157,  0.0482],\n",
       "        [-0.2830,  0.5444,  1.0640,  1.2131, -0.8034, -0.6937,  0.3677, -0.2235,\n",
       "         -1.4157,  0.0482],\n",
       "        [-0.0429,  0.1000,  1.2207,  0.2911,  0.2989, -0.6273,  0.7560,  0.3700,\n",
       "          1.0670, -1.8570],\n",
       "        [-0.0429,  0.1000,  1.2207,  0.2911,  0.2989, -0.6273,  0.7560,  0.3700,\n",
       "          1.0670, -1.8570]], grad_fn=<EmbeddingBackward0>)"
      ]
     },
     "execution_count": 3,
     "metadata": {},
     "output_type": "execute_result"
    }
   ],
   "source": [
    "embedding=nn.Embedding(5,10)\n",
    "embedding(torch.tensor([0,0,1,1]))\n",
    "\n"
   ]
  },
  {
   "cell_type": "code",
   "execution_count": 4,
   "id": "2037a436",
   "metadata": {
    "execution": {
     "iopub.execute_input": "2025-08-11T19:24:27.148760Z",
     "iopub.status.busy": "2025-08-11T19:24:27.148429Z",
     "iopub.status.idle": "2025-08-11T19:24:27.172010Z",
     "shell.execute_reply": "2025-08-11T19:24:27.170907Z"
    },
    "papermill": {
     "duration": 0.028849,
     "end_time": "2025-08-11T19:24:27.174152",
     "exception": false,
     "start_time": "2025-08-11T19:24:27.145303",
     "status": "completed"
    },
    "tags": []
   },
   "outputs": [
    {
     "data": {
      "text/plain": [
       "Generator(\n",
       "  (label_embedding): Embedding(10, 20)\n",
       "  (model): Sequential(\n",
       "    (0): Linear(in_features=120, out_features=128, bias=True)\n",
       "    (1): LeakyReLU(negative_slope=0.2)\n",
       "    (2): Linear(in_features=128, out_features=256, bias=True)\n",
       "    (3): LeakyReLU(negative_slope=0.2)\n",
       "    (4): Linear(in_features=256, out_features=512, bias=True)\n",
       "    (5): Linear(in_features=512, out_features=784, bias=True)\n",
       "    (6): Tanh()\n",
       "  )\n",
       ")"
      ]
     },
     "execution_count": 4,
     "metadata": {},
     "output_type": "execute_result"
    }
   ],
   "source": [
    "num_class=10\n",
    "embed_len=20\n",
    "latent_dim=100\n",
    "img_size=28*28\n",
    "class Generator(nn.Module):\n",
    "    def __init__(self):\n",
    "        super(Generator, self).__init__()\n",
    "        self.label_embedding=nn.Embedding(num_class,embed_len)\n",
    "        self.model=nn.Sequential(\n",
    "            nn.Linear(latent_dim+embed_len, 128),\n",
    "            nn.LeakyReLU(0.2),\n",
    "            nn.Linear(128, 256),\n",
    "            nn.LeakyReLU(0.2),\n",
    "            nn.Linear(256, 512),\n",
    "            nn.Linear(512, img_size),\n",
    "            nn.Tanh()\n",
    "            \n",
    "        )\n",
    "    def forward(self, z, label):\n",
    "        # print(label.shape)\n",
    "        c=self.label_embedding(label)\n",
    "        print(c.shape)\n",
    "        print(z.shape)\n",
    "        x=torch.cat([z,c],dim=1)\n",
    "        print(x.shape)\n",
    "        return self.model(x)\n",
    "        \n",
    "device = torch.device(\"cuda\" if torch.cuda.is_available() else \"cpu\")\n",
    "model_Gen=Generator().to(device)\n",
    "model_Gen\n",
    "\n"
   ]
  },
  {
   "cell_type": "code",
   "execution_count": 5,
   "id": "84528d9f",
   "metadata": {
    "execution": {
     "iopub.execute_input": "2025-08-11T19:24:27.181414Z",
     "iopub.status.busy": "2025-08-11T19:24:27.180528Z",
     "iopub.status.idle": "2025-08-11T19:24:27.255668Z",
     "shell.execute_reply": "2025-08-11T19:24:27.254700Z"
    },
    "papermill": {
     "duration": 0.081555,
     "end_time": "2025-08-11T19:24:27.258446",
     "exception": false,
     "start_time": "2025-08-11T19:24:27.176891",
     "status": "completed"
    },
    "tags": []
   },
   "outputs": [
    {
     "name": "stdout",
     "output_type": "stream",
     "text": [
      "torch.Size([32, 20])\n",
      "torch.Size([32, 100])\n",
      "torch.Size([32, 120])\n"
     ]
    },
    {
     "name": "stderr",
     "output_type": "stream",
     "text": [
      "/tmp/ipykernel_13/4065182639.py:4: UserWarning: To copy construct from a tensor, it is recommended to use sourceTensor.clone().detach() or sourceTensor.clone().detach().requires_grad_(True), rather than torch.tensor(sourceTensor).\n",
      "  z=torch.tensor(z)\n",
      "/tmp/ipykernel_13/4065182639.py:6: UserWarning: To copy construct from a tensor, it is recommended to use sourceTensor.clone().detach() or sourceTensor.clone().detach().requires_grad_(True), rather than torch.tensor(sourceTensor).\n",
      "  label=torch.tensor(label)\n"
     ]
    },
    {
     "data": {
      "text/plain": [
       "tensor([[ 0.0233,  0.1032,  0.0210,  ...,  0.0166, -0.0158,  0.0218],\n",
       "        [ 0.0658,  0.0279, -0.0045,  ...,  0.0064,  0.0457, -0.0240],\n",
       "        [ 0.0602,  0.0431, -0.0407,  ...,  0.1263, -0.0267, -0.1134],\n",
       "        ...,\n",
       "        [-0.0478,  0.0480,  0.0444,  ...,  0.1328,  0.0209, -0.0397],\n",
       "        [ 0.1278,  0.0454, -0.0454,  ...,  0.0691,  0.0013,  0.0068],\n",
       "        [ 0.1092,  0.0255, -0.0386,  ...,  0.1092, -0.0152, -0.0606]],\n",
       "       grad_fn=<TanhBackward0>)"
      ]
     },
     "execution_count": 5,
     "metadata": {},
     "output_type": "execute_result"
    }
   ],
   "source": [
    "batch=32\n",
    "z=torch.randn(batch, latent_dim)\n",
    "z.shape\n",
    "z=torch.tensor(z)\n",
    "label=torch.randint(1,num_class , (batch,))\n",
    "label=torch.tensor(label)\n",
    "\n",
    "model_Gen(z.to(device), label.to(device))\n"
   ]
  },
  {
   "cell_type": "code",
   "execution_count": 6,
   "id": "34cf1778",
   "metadata": {
    "execution": {
     "iopub.execute_input": "2025-08-11T19:24:27.266867Z",
     "iopub.status.busy": "2025-08-11T19:24:27.266209Z",
     "iopub.status.idle": "2025-08-11T19:24:27.286237Z",
     "shell.execute_reply": "2025-08-11T19:24:27.285311Z"
    },
    "papermill": {
     "duration": 0.025615,
     "end_time": "2025-08-11T19:24:27.287783",
     "exception": false,
     "start_time": "2025-08-11T19:24:27.262168",
     "status": "completed"
    },
    "tags": []
   },
   "outputs": [
    {
     "data": {
      "text/plain": [
       "Discriminator(\n",
       "  (label_embd): Embedding(10, 20)\n",
       "  (model): Sequential(\n",
       "    (0): Linear(in_features=804, out_features=256, bias=True)\n",
       "    (1): LeakyReLU(negative_slope=0.2)\n",
       "    (2): Linear(in_features=256, out_features=512, bias=True)\n",
       "    (3): LeakyReLU(negative_slope=0.2)\n",
       "    (4): Linear(in_features=512, out_features=1024, bias=True)\n",
       "    (5): LeakyReLU(negative_slope=0.2)\n",
       "    (6): Linear(in_features=1024, out_features=1, bias=True)\n",
       "    (7): Sigmoid()\n",
       "  )\n",
       ")"
      ]
     },
     "execution_count": 6,
     "metadata": {},
     "output_type": "execute_result"
    }
   ],
   "source": [
    "class Discriminator(nn.Module):\n",
    "    def __init__(self):\n",
    "        super(Discriminator, self).__init__()\n",
    "        self.label_embd=nn.Embedding(num_class, embed_len)\n",
    "        self.model=nn.Sequential(\n",
    "            nn.Linear(img_size+embed_len, 256),\n",
    "            nn.LeakyReLU(0.2),\n",
    "            nn.Linear(256, 512),\n",
    "            nn.LeakyReLU(0.2),\n",
    "            nn.Linear(512,1024),\n",
    "            nn.LeakyReLU(0.2),\n",
    "            nn.Linear(1024,1),\n",
    "            nn.Sigmoid()\n",
    "            \n",
    "        )\n",
    "    def forward(self, img, label):\n",
    "        c=self.label_embd(label)\n",
    "        x=torch.cat([img,c], dim=1)\n",
    "        return self.model(x)\n",
    "\n",
    "\n",
    "model_Dis=Discriminator().to(device)\n",
    "model_Dis"
   ]
  },
  {
   "cell_type": "code",
   "execution_count": 7,
   "id": "9bca5e97",
   "metadata": {
    "execution": {
     "iopub.execute_input": "2025-08-11T19:24:27.294037Z",
     "iopub.status.busy": "2025-08-11T19:24:27.293758Z",
     "iopub.status.idle": "2025-08-11T19:24:27.307963Z",
     "shell.execute_reply": "2025-08-11T19:24:27.307114Z"
    },
    "papermill": {
     "duration": 0.018834,
     "end_time": "2025-08-11T19:24:27.309365",
     "exception": false,
     "start_time": "2025-08-11T19:24:27.290531",
     "status": "completed"
    },
    "tags": []
   },
   "outputs": [
    {
     "data": {
      "text/plain": [
       "torch.Size([32, 1])"
      ]
     },
     "execution_count": 7,
     "metadata": {},
     "output_type": "execute_result"
    }
   ],
   "source": [
    "img=torch.rand(batch,28,28)\n",
    "img.shape\n",
    "# img=nn.Flatten(img)\n",
    "type(img)\n",
    "\n",
    "img.shape\n",
    "\n",
    "img_gen=img.view(img.size(0),-1).to(device)\n",
    "img_gen.shape\n",
    "\n",
    "label=torch.randint(0,num_class,(batch,))\n",
    "\n",
    "p=model_Dis(img_gen, label)\n",
    "p.shape"
   ]
  },
  {
   "cell_type": "code",
   "execution_count": null,
   "id": "0d003328",
   "metadata": {
    "papermill": {
     "duration": 0.002902,
     "end_time": "2025-08-11T19:24:27.315757",
     "exception": false,
     "start_time": "2025-08-11T19:24:27.312855",
     "status": "completed"
    },
    "tags": []
   },
   "outputs": [],
   "source": []
  }
 ],
 "metadata": {
  "kaggle": {
   "accelerator": "none",
   "dataSources": [],
   "dockerImageVersionId": 31089,
   "isGpuEnabled": false,
   "isInternetEnabled": true,
   "language": "python",
   "sourceType": "notebook"
  },
  "kernelspec": {
   "display_name": "Python 3",
   "language": "python",
   "name": "python3"
  },
  "language_info": {
   "codemirror_mode": {
    "name": "ipython",
    "version": 3
   },
   "file_extension": ".py",
   "mimetype": "text/x-python",
   "name": "python",
   "nbconvert_exporter": "python",
   "pygments_lexer": "ipython3",
   "version": "3.11.13"
  },
  "papermill": {
   "default_parameters": {},
   "duration": 20.156978,
   "end_time": "2025-08-11T19:24:29.243831",
   "environment_variables": {},
   "exception": null,
   "input_path": "__notebook__.ipynb",
   "output_path": "__notebook__.ipynb",
   "parameters": {},
   "start_time": "2025-08-11T19:24:09.086853",
   "version": "2.6.0"
  }
 },
 "nbformat": 4,
 "nbformat_minor": 5
}
