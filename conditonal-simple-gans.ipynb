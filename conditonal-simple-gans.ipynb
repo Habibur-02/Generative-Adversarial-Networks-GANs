{
 "cells": [
  {
   "cell_type": "code",
   "execution_count": 1,
   "id": "99a4b125",
   "metadata": {
    "_cell_guid": "b1076dfc-b9ad-4769-8c92-a6c4dae69d19",
    "_uuid": "8f2839f25d086af736a60e9eeb907d3b93b6e0e5",
    "execution": {
     "iopub.execute_input": "2025-08-11T20:16:10.985787Z",
     "iopub.status.busy": "2025-08-11T20:16:10.985387Z",
     "iopub.status.idle": "2025-08-11T20:16:13.145479Z",
     "shell.execute_reply": "2025-08-11T20:16:13.144504Z"
    },
    "papermill": {
     "duration": 2.166431,
     "end_time": "2025-08-11T20:16:13.147328",
     "exception": false,
     "start_time": "2025-08-11T20:16:10.980897",
     "status": "completed"
    },
    "tags": []
   },
   "outputs": [],
   "source": [
    "# This Python 3 environment comes with many helpful analytics libraries installed\n",
    "# It is defined by the kaggle/python Docker image: https://github.com/kaggle/docker-python\n",
    "# For example, here's several helpful packages to load\n",
    "\n",
    "import numpy as np # linear algebra\n",
    "import pandas as pd # data processing, CSV file I/O (e.g. pd.read_csv)\n",
    "\n",
    "# Input data files are available in the read-only \"../input/\" directory\n",
    "# For example, running this (by clicking run or pressing Shift+Enter) will list all files under the input directory\n",
    "\n",
    "import os\n",
    "for dirname, _, filenames in os.walk('/kaggle/input'):\n",
    "    for filename in filenames:\n",
    "        print(os.path.join(dirname, filename))\n",
    "\n",
    "# You can write up to 20GB to the current directory (/kaggle/working/) that gets preserved as output when you create a version using \"Save & Run All\" \n",
    "# You can also write temporary files to /kaggle/temp/, but they won't be saved outside of the current session"
   ]
  },
  {
   "cell_type": "code",
   "execution_count": 2,
   "id": "aa8e64eb",
   "metadata": {
    "execution": {
     "iopub.execute_input": "2025-08-11T20:16:13.154326Z",
     "iopub.status.busy": "2025-08-11T20:16:13.153888Z",
     "iopub.status.idle": "2025-08-11T20:16:27.886083Z",
     "shell.execute_reply": "2025-08-11T20:16:27.885119Z"
    },
    "papermill": {
     "duration": 14.73755,
     "end_time": "2025-08-11T20:16:27.888121",
     "exception": false,
     "start_time": "2025-08-11T20:16:13.150571",
     "status": "completed"
    },
    "tags": []
   },
   "outputs": [
    {
     "name": "stderr",
     "output_type": "stream",
     "text": [
      "100%|██████████| 9.91M/9.91M [00:00<00:00, 55.8MB/s]\n",
      "100%|██████████| 28.9k/28.9k [00:00<00:00, 1.60MB/s]\n",
      "100%|██████████| 1.65M/1.65M [00:00<00:00, 13.9MB/s]\n",
      "100%|██████████| 4.54k/4.54k [00:00<00:00, 4.78MB/s]\n"
     ]
    }
   ],
   "source": [
    "import torch\n",
    "import torch.nn as nn\n",
    "from torch.utils.data import DataLoader\n",
    "from torchvision import datasets, transforms\n",
    "from torchvision.utils import save_image\n",
    "import os\n",
    "\n",
    "# ========== Hyperparameters ==========\n",
    "latent_dim = 100\n",
    "num_classes = 10  \n",
    "img_size = 28 * 28\n",
    "batch_size = 64\n",
    "lr = 0.0002\n",
    "epochs = 5\n",
    "device = torch.device(\"cuda\" if torch.cuda.is_available() else \"cpu\")\n",
    "\n",
    "# ========== DataLoader ==========\n",
    "transform = transforms.Compose([\n",
    "    transforms.ToTensor(),\n",
    "    transforms.Normalize((0.5,), (0.5,))\n",
    "])\n",
    "train_dataset = datasets.MNIST(root='./data', train=True, download=True, transform=transform)\n",
    "train_loader = DataLoader(train_dataset, batch_size=batch_size, shuffle=True)"
   ]
  },
  {
   "cell_type": "code",
   "execution_count": 3,
   "id": "04937518",
   "metadata": {
    "execution": {
     "iopub.execute_input": "2025-08-11T20:16:27.896489Z",
     "iopub.status.busy": "2025-08-11T20:16:27.896017Z",
     "iopub.status.idle": "2025-08-11T20:16:27.942809Z",
     "shell.execute_reply": "2025-08-11T20:16:27.941862Z"
    },
    "papermill": {
     "duration": 0.052697,
     "end_time": "2025-08-11T20:16:27.944470",
     "exception": false,
     "start_time": "2025-08-11T20:16:27.891773",
     "status": "completed"
    },
    "tags": []
   },
   "outputs": [
    {
     "data": {
      "text/plain": [
       "tensor([[-0.2592, -0.1137,  0.4852,  0.5135, -0.7733, -0.7276,  1.0644, -1.0802,\n",
       "         -0.4438, -0.4911],\n",
       "        [-0.2592, -0.1137,  0.4852,  0.5135, -0.7733, -0.7276,  1.0644, -1.0802,\n",
       "         -0.4438, -0.4911],\n",
       "        [ 0.0532,  0.8456, -0.2654, -0.8397, -1.3304, -0.1686, -1.0918,  0.9973,\n",
       "          0.4997, -0.3623],\n",
       "        [ 0.0532,  0.8456, -0.2654, -0.8397, -1.3304, -0.1686, -1.0918,  0.9973,\n",
       "          0.4997, -0.3623]], grad_fn=<EmbeddingBackward0>)"
      ]
     },
     "execution_count": 3,
     "metadata": {},
     "output_type": "execute_result"
    }
   ],
   "source": [
    "embedding=nn.Embedding(5,10)\n",
    "embedding(torch.tensor([0,0,1,1]))\n",
    "\n"
   ]
  },
  {
   "cell_type": "code",
   "execution_count": 4,
   "id": "8262055d",
   "metadata": {
    "execution": {
     "iopub.execute_input": "2025-08-11T20:16:27.953121Z",
     "iopub.status.busy": "2025-08-11T20:16:27.952705Z",
     "iopub.status.idle": "2025-08-11T20:16:27.972663Z",
     "shell.execute_reply": "2025-08-11T20:16:27.971571Z"
    },
    "papermill": {
     "duration": 0.026448,
     "end_time": "2025-08-11T20:16:27.974630",
     "exception": false,
     "start_time": "2025-08-11T20:16:27.948182",
     "status": "completed"
    },
    "tags": []
   },
   "outputs": [
    {
     "data": {
      "text/plain": [
       "Generator(\n",
       "  (label_embedding): Embedding(10, 20)\n",
       "  (model): Sequential(\n",
       "    (0): Linear(in_features=120, out_features=128, bias=True)\n",
       "    (1): LeakyReLU(negative_slope=0.2)\n",
       "    (2): Linear(in_features=128, out_features=256, bias=True)\n",
       "    (3): LeakyReLU(negative_slope=0.2)\n",
       "    (4): Linear(in_features=256, out_features=512, bias=True)\n",
       "    (5): Linear(in_features=512, out_features=784, bias=True)\n",
       "    (6): Tanh()\n",
       "  )\n",
       ")"
      ]
     },
     "execution_count": 4,
     "metadata": {},
     "output_type": "execute_result"
    }
   ],
   "source": [
    "num_class=10\n",
    "embed_len=20\n",
    "latent_dim=100\n",
    "img_size=28*28\n",
    "class Generator(nn.Module):\n",
    "    def __init__(self):\n",
    "        super(Generator, self).__init__()\n",
    "        self.label_embedding=nn.Embedding(num_class,embed_len)\n",
    "        self.model=nn.Sequential(\n",
    "            nn.Linear(latent_dim+embed_len, 128),\n",
    "            nn.LeakyReLU(0.2),\n",
    "            nn.Linear(128, 256),\n",
    "            nn.LeakyReLU(0.2),\n",
    "            nn.Linear(256, 512),\n",
    "            nn.Linear(512, img_size),\n",
    "            nn.Tanh()\n",
    "            \n",
    "        )\n",
    "    def forward(self, z, label):\n",
    "        # print(label.shape)\n",
    "        c=self.label_embedding(label)\n",
    "        print(c.shape)\n",
    "        print(z.shape)\n",
    "        x=torch.cat([z,c],dim=1)\n",
    "        print(x.shape)\n",
    "        return self.model(x)\n",
    "        \n",
    "device = torch.device(\"cuda\" if torch.cuda.is_available() else \"cpu\")\n",
    "model_Gen=Generator().to(device)\n",
    "model_Gen\n",
    "\n"
   ]
  },
  {
   "cell_type": "code",
   "execution_count": 5,
   "id": "328d8999",
   "metadata": {
    "execution": {
     "iopub.execute_input": "2025-08-11T20:16:27.982671Z",
     "iopub.status.busy": "2025-08-11T20:16:27.982357Z",
     "iopub.status.idle": "2025-08-11T20:16:28.032161Z",
     "shell.execute_reply": "2025-08-11T20:16:28.030904Z"
    },
    "papermill": {
     "duration": 0.055637,
     "end_time": "2025-08-11T20:16:28.033753",
     "exception": false,
     "start_time": "2025-08-11T20:16:27.978116",
     "status": "completed"
    },
    "tags": []
   },
   "outputs": [
    {
     "name": "stdout",
     "output_type": "stream",
     "text": [
      "torch.Size([32, 20])\n",
      "torch.Size([32, 100])\n",
      "torch.Size([32, 120])\n"
     ]
    },
    {
     "name": "stderr",
     "output_type": "stream",
     "text": [
      "/tmp/ipykernel_13/4065182639.py:4: UserWarning: To copy construct from a tensor, it is recommended to use sourceTensor.clone().detach() or sourceTensor.clone().detach().requires_grad_(True), rather than torch.tensor(sourceTensor).\n",
      "  z=torch.tensor(z)\n",
      "/tmp/ipykernel_13/4065182639.py:6: UserWarning: To copy construct from a tensor, it is recommended to use sourceTensor.clone().detach() or sourceTensor.clone().detach().requires_grad_(True), rather than torch.tensor(sourceTensor).\n",
      "  label=torch.tensor(label)\n"
     ]
    },
    {
     "data": {
      "text/plain": [
       "tensor([[-0.0300,  0.0262,  0.0378,  ...,  0.1794, -0.0460,  0.0263],\n",
       "        [-0.0509,  0.1473,  0.0153,  ...,  0.1146, -0.0255,  0.0357],\n",
       "        [-0.1045,  0.0687,  0.0133,  ...,  0.1113,  0.0464,  0.0290],\n",
       "        ...,\n",
       "        [-0.1271,  0.1148, -0.0241,  ...,  0.0736, -0.0200, -0.0285],\n",
       "        [-0.0785,  0.0363,  0.0586,  ...,  0.0785, -0.0405, -0.0060],\n",
       "        [-0.1045,  0.0641,  0.0672,  ...,  0.0573, -0.0821, -0.0125]],\n",
       "       grad_fn=<TanhBackward0>)"
      ]
     },
     "execution_count": 5,
     "metadata": {},
     "output_type": "execute_result"
    }
   ],
   "source": [
    "batch=32\n",
    "z=torch.randn(batch, latent_dim)\n",
    "z.shape\n",
    "z=torch.tensor(z)\n",
    "label=torch.randint(1,num_class , (batch,))\n",
    "label=torch.tensor(label)\n",
    "\n",
    "model_Gen(z.to(device), label.to(device))\n"
   ]
  },
  {
   "cell_type": "code",
   "execution_count": 6,
   "id": "92606ac6",
   "metadata": {
    "execution": {
     "iopub.execute_input": "2025-08-11T20:16:28.043320Z",
     "iopub.status.busy": "2025-08-11T20:16:28.042728Z",
     "iopub.status.idle": "2025-08-11T20:16:28.063210Z",
     "shell.execute_reply": "2025-08-11T20:16:28.061888Z"
    },
    "papermill": {
     "duration": 0.027161,
     "end_time": "2025-08-11T20:16:28.065136",
     "exception": false,
     "start_time": "2025-08-11T20:16:28.037975",
     "status": "completed"
    },
    "tags": []
   },
   "outputs": [
    {
     "data": {
      "text/plain": [
       "Discriminator(\n",
       "  (label_embd): Embedding(10, 20)\n",
       "  (model): Sequential(\n",
       "    (0): Linear(in_features=804, out_features=256, bias=True)\n",
       "    (1): LeakyReLU(negative_slope=0.2)\n",
       "    (2): Linear(in_features=256, out_features=512, bias=True)\n",
       "    (3): LeakyReLU(negative_slope=0.2)\n",
       "    (4): Linear(in_features=512, out_features=1024, bias=True)\n",
       "    (5): LeakyReLU(negative_slope=0.2)\n",
       "    (6): Linear(in_features=1024, out_features=1, bias=True)\n",
       "    (7): Sigmoid()\n",
       "  )\n",
       ")"
      ]
     },
     "execution_count": 6,
     "metadata": {},
     "output_type": "execute_result"
    }
   ],
   "source": [
    "class Discriminator(nn.Module):\n",
    "    def __init__(self):\n",
    "        super(Discriminator, self).__init__()\n",
    "        self.label_embd=nn.Embedding(num_class, embed_len)\n",
    "        self.model=nn.Sequential(\n",
    "            nn.Linear(img_size+embed_len, 256),\n",
    "            nn.LeakyReLU(0.2),\n",
    "            nn.Linear(256, 512),\n",
    "            nn.LeakyReLU(0.2),\n",
    "            nn.Linear(512,1024),\n",
    "            nn.LeakyReLU(0.2),\n",
    "            nn.Linear(1024,1),\n",
    "            nn.Sigmoid()\n",
    "            \n",
    "        )\n",
    "    def forward(self, img, label):\n",
    "        c=self.label_embd(label)\n",
    "        x=torch.cat([img,c], dim=1)\n",
    "        return self.model(x)\n",
    "\n",
    "\n",
    "model_Dis=Discriminator().to(device)\n",
    "model_Dis"
   ]
  },
  {
   "cell_type": "code",
   "execution_count": 7,
   "id": "e54ff213",
   "metadata": {
    "execution": {
     "iopub.execute_input": "2025-08-11T20:16:28.075148Z",
     "iopub.status.busy": "2025-08-11T20:16:28.074758Z",
     "iopub.status.idle": "2025-08-11T20:16:28.094155Z",
     "shell.execute_reply": "2025-08-11T20:16:28.092924Z"
    },
    "papermill": {
     "duration": 0.026581,
     "end_time": "2025-08-11T20:16:28.096052",
     "exception": false,
     "start_time": "2025-08-11T20:16:28.069471",
     "status": "completed"
    },
    "tags": []
   },
   "outputs": [
    {
     "data": {
      "text/plain": [
       "torch.Size([32, 1])"
      ]
     },
     "execution_count": 7,
     "metadata": {},
     "output_type": "execute_result"
    }
   ],
   "source": [
    "img=torch.rand(batch,28,28)\n",
    "img.shape\n",
    "# img=nn.Flatten(img)\n",
    "type(img)\n",
    "\n",
    "img.shape\n",
    "\n",
    "img_gen=img.view(img.size(0),-1).to(device)\n",
    "img_gen.shape\n",
    "\n",
    "label=torch.randint(0,num_class,(batch,))\n",
    "\n",
    "p=model_Dis(img_gen, label)\n",
    "p.shape"
   ]
  },
  {
   "cell_type": "code",
   "execution_count": 8,
   "id": "08ab9437",
   "metadata": {
    "execution": {
     "iopub.execute_input": "2025-08-11T20:16:28.106866Z",
     "iopub.status.busy": "2025-08-11T20:16:28.106448Z",
     "iopub.status.idle": "2025-08-11T20:16:28.119280Z",
     "shell.execute_reply": "2025-08-11T20:16:28.118204Z"
    },
    "papermill": {
     "duration": 0.020097,
     "end_time": "2025-08-11T20:16:28.121021",
     "exception": false,
     "start_time": "2025-08-11T20:16:28.100924",
     "status": "completed"
    },
    "tags": []
   },
   "outputs": [],
   "source": [
    "loss_fn=nn.BCELoss()\n",
    "\n",
    "optimizer_G=torch.optim.Adam(params=model_Gen.parameters(),lr=lr)\n",
    "\n",
    "optimizer_D=torch.optim.Adam(params=model_Dis.parameters(),lr=lr)\n",
    "\n",
    "fixed_noise=torch.randn(16, latent_dim)\n",
    "fixed_noise.shape\n",
    "fixed_labels = torch.arange(0, 8).repeat(2).to(device)\n",
    "\n",
    "fixed_labels.shape\n",
    "os.makedirs(\"cgan_outputs\", exist_ok=True)"
   ]
  },
  {
   "cell_type": "code",
   "execution_count": 9,
   "id": "985144b9",
   "metadata": {
    "execution": {
     "iopub.execute_input": "2025-08-11T20:16:28.129984Z",
     "iopub.status.busy": "2025-08-11T20:16:28.129632Z",
     "iopub.status.idle": "2025-08-11T20:16:28.351584Z",
     "shell.execute_reply": "2025-08-11T20:16:28.349886Z"
    },
    "papermill": {
     "duration": 0.228601,
     "end_time": "2025-08-11T20:16:28.353511",
     "exception": false,
     "start_time": "2025-08-11T20:16:28.124910",
     "status": "completed"
    },
    "tags": []
   },
   "outputs": [
    {
     "name": "stdout",
     "output_type": "stream",
     "text": [
      "tensor([3, 7, 4, 0, 4, 4, 2, 4, 3, 5, 7, 6, 4, 3, 7, 5, 1, 3, 7, 6, 7, 3, 9, 4,\n",
      "        2, 6, 3, 7, 5, 0, 0, 6, 6, 4, 7, 7, 6, 1, 5, 5, 6, 8, 9, 3, 5, 2, 2, 9,\n",
      "        7, 1, 9, 2, 6, 3, 8, 4, 0, 0, 9, 8, 5, 5, 2, 6])\n",
      "torch.Size([64, 1, 28, 28])\n",
      "torch.Size([64, 20])\n",
      "torch.Size([64, 100])\n",
      "torch.Size([64, 120])\n",
      "torch.Size([64, 1])\n",
      "[D loss: 1.3793] [G loss: 0.7028]\n",
      "tensor([6, 4, 5, 6, 7, 7, 2, 5, 6, 4, 5, 5, 4, 6, 2, 7, 2, 1, 9, 7, 2, 7, 5, 9,\n",
      "        0, 3, 2, 4, 3, 5, 6, 2, 5, 0, 4, 1, 5, 6, 2, 7, 1, 8, 2, 7, 8, 6, 1, 0,\n",
      "        7, 8, 2, 5, 6, 1, 3, 7, 1, 5, 3, 5, 7, 3, 0, 6])\n",
      "torch.Size([64, 1, 28, 28])\n",
      "torch.Size([64, 20])\n",
      "torch.Size([64, 100])\n",
      "torch.Size([64, 120])\n",
      "torch.Size([64, 1])\n",
      "[D loss: 1.3059] [G loss: 0.7005]\n",
      "torch.Size([16, 20])\n",
      "torch.Size([16, 100])\n",
      "torch.Size([16, 120])\n"
     ]
    }
   ],
   "source": [
    "epoch=1\n",
    "# for epochs in range(epoch)\n",
    "for i, (img, label) in enumerate(train_loader):\n",
    "    if i>1:\n",
    "        break\n",
    "    print(label)\n",
    "    print(img.shape)\n",
    "    \n",
    "\n",
    "    batch_current=img.size(0)\n",
    "    real_label=torch.full((batch_current, 1), 0.9, device=device)\n",
    "    fake_label=torch.zeros(batch_current,1).to(device)\n",
    "    real_img=img.view(batch_current,-1)\n",
    "    real_img=real_img.to(device)\n",
    "    #Discriminator\n",
    "    optimizer_D.zero_grad()\n",
    "    real_out=model_Dis(real_img, label)\n",
    "    real_loss=loss_fn(real_out,real_label)\n",
    "\n",
    "\n",
    "\n",
    "    z=torch.randn(batch_current, latent_dim).to(device)\n",
    "    fake_img=model_Gen(z,label)\n",
    "    fake_img=fake_img.view(batch_current,-1)\n",
    "    fake_out=model_Dis(fake_img.detach(),label)\n",
    "    print(fake_out.shape)\n",
    "    fake_loss=loss_fn(fake_out, fake_label)\n",
    "\n",
    "    total_loss=real_loss + fake_loss\n",
    "    total_loss.backward()\n",
    "    optimizer_D.step()\n",
    "    #Generator Training\n",
    "\n",
    "\n",
    "    optimizer_G.zero_grad()\n",
    "    gen_valid=model_Dis(fake_img, label)\n",
    "    gen_loss=loss_fn(gen_valid, real_label)\n",
    "    gen_loss.backward()\n",
    "    optimizer_G.step()\n",
    "    if i % 1 == 0:\n",
    "            # print(f\"[Epoch {epoch+1}/{epochs}] [Batch {i}/{len(train_loader)}] \"\n",
    "            #       f\"[D loss: {d_loss.item():.4f}] [G loss: {g_loss.item():.4f}]\")\n",
    "        print(f\"[D loss: {total_loss.item():.4f}] [G loss: {gen_loss.item():.4f}]\")\n",
    "with torch.no_grad():\n",
    "    generated = model_Gen(fixed_noise, fixed_labels).view(-1, 1, 28, 28)\n",
    "    save_image(generated, f\"cgan_outputs/sample_epoch_{epoch+1}.png\", normalize=True)\n",
    "    \n",
    "    \n",
    "\n",
    "    \n",
    "    \n",
    "    \n",
    "    \n",
    "    \n",
    "    \n",
    "    \n",
    "    "
   ]
  }
 ],
 "metadata": {
  "kaggle": {
   "accelerator": "none",
   "dataSources": [],
   "dockerImageVersionId": 31089,
   "isGpuEnabled": false,
   "isInternetEnabled": true,
   "language": "python",
   "sourceType": "notebook"
  },
  "kernelspec": {
   "display_name": "Python 3",
   "language": "python",
   "name": "python3"
  },
  "language_info": {
   "codemirror_mode": {
    "name": "ipython",
    "version": 3
   },
   "file_extension": ".py",
   "mimetype": "text/x-python",
   "name": "python",
   "nbconvert_exporter": "python",
   "pygments_lexer": "ipython3",
   "version": "3.11.13"
  },
  "papermill": {
   "default_parameters": {},
   "duration": 25.314042,
   "end_time": "2025-08-11T20:16:31.078429",
   "environment_variables": {},
   "exception": null,
   "input_path": "__notebook__.ipynb",
   "output_path": "__notebook__.ipynb",
   "parameters": {},
   "start_time": "2025-08-11T20:16:05.764387",
   "version": "2.6.0"
  }
 },
 "nbformat": 4,
 "nbformat_minor": 5
}
