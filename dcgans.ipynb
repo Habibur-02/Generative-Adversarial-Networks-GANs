{
 "cells": [
  {
   "cell_type": "code",
   "execution_count": 1,
   "id": "79e967ed",
   "metadata": {
    "_cell_guid": "b1076dfc-b9ad-4769-8c92-a6c4dae69d19",
    "_uuid": "8f2839f25d086af736a60e9eeb907d3b93b6e0e5",
    "execution": {
     "iopub.execute_input": "2025-08-06T16:22:47.118044Z",
     "iopub.status.busy": "2025-08-06T16:22:47.116990Z",
     "iopub.status.idle": "2025-08-06T16:22:49.743234Z",
     "shell.execute_reply": "2025-08-06T16:22:49.742010Z"
    },
    "papermill": {
     "duration": 2.634401,
     "end_time": "2025-08-06T16:22:49.745850",
     "exception": false,
     "start_time": "2025-08-06T16:22:47.111449",
     "status": "completed"
    },
    "tags": []
   },
   "outputs": [],
   "source": [
    "# This Python 3 environment comes with many helpful analytics libraries installed\n",
    "# It is defined by the kaggle/python Docker image: https://github.com/kaggle/docker-python\n",
    "# For example, here's several helpful packages to load\n",
    "\n",
    "import numpy as np # linear algebra\n",
    "import pandas as pd # data processing, CSV file I/O (e.g. pd.read_csv)\n",
    "\n",
    "# Input data files are available in the read-only \"../input/\" directory\n",
    "# For example, running this (by clicking run or pressing Shift+Enter) will list all files under the input directory\n",
    "\n",
    "import os\n",
    "for dirname, _, filenames in os.walk('/kaggle/input'):\n",
    "    for filename in filenames:\n",
    "        print(os.path.join(dirname, filename))\n",
    "\n",
    "# You can write up to 20GB to the current directory (/kaggle/working/) that gets preserved as output when you create a version using \"Save & Run All\" \n",
    "# You can also write temporary files to /kaggle/temp/, but they won't be saved outside of the current session"
   ]
  },
  {
   "cell_type": "markdown",
   "id": "288f9f0f",
   "metadata": {
    "papermill": {
     "duration": 0.002029,
     "end_time": "2025-08-06T16:22:49.751062",
     "exception": false,
     "start_time": "2025-08-06T16:22:49.749033",
     "status": "completed"
    },
    "tags": []
   },
   "source": [
    "# DCGAN= Deep Convolution GANs\n",
    "Upsampling convolution\n",
    "It is also called often.\n",
    "`Deconvolution or \n",
    "Fractionally strided convolution or\n",
    "Upconvolution`"
   ]
  },
  {
   "cell_type": "markdown",
   "id": "aabd6f56",
   "metadata": {
    "papermill": {
     "duration": 0.0019,
     "end_time": "2025-08-06T16:22:49.755371",
     "exception": false,
     "start_time": "2025-08-06T16:22:49.753471",
     "status": "completed"
    },
    "tags": []
   },
   "source": [
    "# Output Size= (I-1)*S-2P+K\n",
    "I=Input size\n",
    "S=Stride\n",
    "P=Padding\n",
    "K=Kernel\n"
   ]
  },
  {
   "cell_type": "code",
   "execution_count": 2,
   "id": "a6e563e1",
   "metadata": {
    "execution": {
     "iopub.execute_input": "2025-08-06T16:22:49.761665Z",
     "iopub.status.busy": "2025-08-06T16:22:49.760976Z",
     "iopub.status.idle": "2025-08-06T16:22:57.336272Z",
     "shell.execute_reply": "2025-08-06T16:22:57.334995Z"
    },
    "papermill": {
     "duration": 7.581661,
     "end_time": "2025-08-06T16:22:57.339196",
     "exception": false,
     "start_time": "2025-08-06T16:22:49.757535",
     "status": "completed"
    },
    "tags": []
   },
   "outputs": [
    {
     "data": {
      "text/plain": [
       "torch.Size([1, 10, 7, 7])"
      ]
     },
     "execution_count": 2,
     "metadata": {},
     "output_type": "execute_result"
    }
   ],
   "source": [
    "import torch\n",
    "import torch.nn as nn\n",
    "\n",
    "input=torch.randn(1,1,6,6)\n",
    "input\n",
    "\n",
    "model=nn.Sequential(\n",
    "    nn.Conv2d(in_channels=1,\n",
    "             out_channels=10,\n",
    "             kernel_size=2,\n",
    "             padding=1,\n",
    "             stride=1,\n",
    "             bias=True),\n",
    "    nn.LeakyReLU(0.3),\n",
    "    nn.BatchNorm2d(10),\n",
    "    nn.Dropout(0.3),\n",
    "    nn.Tanh()\n",
    "    \n",
    ")\n",
    "\n",
    "output=model(input)\n",
    "output.shape\n",
    "# output"
   ]
  },
  {
   "cell_type": "code",
   "execution_count": 3,
   "id": "46ac4497",
   "metadata": {
    "execution": {
     "iopub.execute_input": "2025-08-06T16:22:57.347013Z",
     "iopub.status.busy": "2025-08-06T16:22:57.346384Z",
     "iopub.status.idle": "2025-08-06T16:22:57.421454Z",
     "shell.execute_reply": "2025-08-06T16:22:57.420203Z"
    },
    "papermill": {
     "duration": 0.081538,
     "end_time": "2025-08-06T16:22:57.423509",
     "exception": false,
     "start_time": "2025-08-06T16:22:57.341971",
     "status": "completed"
    },
    "tags": []
   },
   "outputs": [
    {
     "data": {
      "text/plain": [
       "tensor([[[[ 0.9657,  0.9913,  0.0000,  0.0000, -0.1338, -0.6547, -0.0000],\n",
       "          [ 0.6277, -0.5100,  0.9899, -0.7337, -0.7672, -0.7203,  0.0000],\n",
       "          [-0.6136, -0.4223, -0.8690, -0.8207, -0.0952, -0.0000, -0.8653],\n",
       "          [-0.7987, -0.0000,  0.9139,  0.9034,  0.8532,  1.0000, -0.6909],\n",
       "          [-0.5533, -0.5266, -0.7560,  0.6812,  0.0000, -0.8486, -0.3370],\n",
       "          [-0.3780, -0.3400, -0.0000, -0.1840, -0.4878, -0.0000, -0.2930],\n",
       "          [-0.5896, -0.0000, -0.3263, -0.0000, -0.0000, -0.8170, -0.6686]]]],\n",
       "       grad_fn=<TanhBackward0>)"
      ]
     },
     "execution_count": 3,
     "metadata": {},
     "output_type": "execute_result"
    }
   ],
   "source": [
    "import torch \n",
    "import torch.nn as nn\n",
    "\n",
    "input= torch.randn(1,3,8,8)\n",
    "input\n",
    "\n",
    "model=nn.Sequential(\n",
    "    nn.ConvTranspose2d(\n",
    "        in_channels=3,\n",
    "        out_channels=1,\n",
    "        kernel_size=2,\n",
    "             padding=1,\n",
    "             stride=1,\n",
    "             bias=True\n",
    "        \n",
    "    ),\n",
    "    nn.LeakyReLU(0.3),\n",
    "    nn.BatchNorm2d(1),\n",
    "    nn.Dropout(0.3),\n",
    "    nn.Tanh()\n",
    ")\n",
    "\n",
    "output=model(input)\n",
    "output.shape\n",
    "\n",
    "output"
   ]
  },
  {
   "cell_type": "markdown",
   "id": "f540103e",
   "metadata": {
    "papermill": {
     "duration": 0.002258,
     "end_time": "2025-08-06T16:22:57.428734",
     "exception": false,
     "start_time": "2025-08-06T16:22:57.426476",
     "status": "completed"
    },
    "tags": []
   },
   "source": [
    "# f(x)=x if x≥0\n",
    "#      αx if x<0"
   ]
  },
  {
   "cell_type": "code",
   "execution_count": null,
   "id": "2d7e0f34",
   "metadata": {
    "papermill": {
     "duration": 0.002164,
     "end_time": "2025-08-06T16:22:57.433468",
     "exception": false,
     "start_time": "2025-08-06T16:22:57.431304",
     "status": "completed"
    },
    "tags": []
   },
   "outputs": [],
   "source": []
  }
 ],
 "metadata": {
  "kaggle": {
   "accelerator": "none",
   "dataSources": [],
   "dockerImageVersionId": 31089,
   "isGpuEnabled": false,
   "isInternetEnabled": true,
   "language": "python",
   "sourceType": "notebook"
  },
  "kernelspec": {
   "display_name": "Python 3",
   "language": "python",
   "name": "python3"
  },
  "language_info": {
   "codemirror_mode": {
    "name": "ipython",
    "version": 3
   },
   "file_extension": ".py",
   "mimetype": "text/x-python",
   "name": "python",
   "nbconvert_exporter": "python",
   "pygments_lexer": "ipython3",
   "version": "3.11.13"
  },
  "papermill": {
   "default_parameters": {},
   "duration": 19.654931,
   "end_time": "2025-08-06T16:22:59.815264",
   "environment_variables": {},
   "exception": null,
   "input_path": "__notebook__.ipynb",
   "output_path": "__notebook__.ipynb",
   "parameters": {},
   "start_time": "2025-08-06T16:22:40.160333",
   "version": "2.6.0"
  }
 },
 "nbformat": 4,
 "nbformat_minor": 5
}
