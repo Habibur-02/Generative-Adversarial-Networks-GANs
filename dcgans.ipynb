{
 "cells": [
  {
   "cell_type": "code",
   "execution_count": 1,
   "id": "e013d131",
   "metadata": {
    "_cell_guid": "b1076dfc-b9ad-4769-8c92-a6c4dae69d19",
    "_uuid": "8f2839f25d086af736a60e9eeb907d3b93b6e0e5",
    "execution": {
     "iopub.execute_input": "2025-08-06T16:54:57.804486Z",
     "iopub.status.busy": "2025-08-06T16:54:57.804191Z",
     "iopub.status.idle": "2025-08-06T16:54:59.618747Z",
     "shell.execute_reply": "2025-08-06T16:54:59.617750Z"
    },
    "papermill": {
     "duration": 1.820251,
     "end_time": "2025-08-06T16:54:59.620543",
     "exception": false,
     "start_time": "2025-08-06T16:54:57.800292",
     "status": "completed"
    },
    "tags": []
   },
   "outputs": [],
   "source": [
    "# This Python 3 environment comes with many helpful analytics libraries installed\n",
    "# It is defined by the kaggle/python Docker image: https://github.com/kaggle/docker-python\n",
    "# For example, here's several helpful packages to load\n",
    "\n",
    "import numpy as np # linear algebra\n",
    "import pandas as pd # data processing, CSV file I/O (e.g. pd.read_csv)\n",
    "\n",
    "# Input data files are available in the read-only \"../input/\" directory\n",
    "# For example, running this (by clicking run or pressing Shift+Enter) will list all files under the input directory\n",
    "\n",
    "import os\n",
    "for dirname, _, filenames in os.walk('/kaggle/input'):\n",
    "    for filename in filenames:\n",
    "        print(os.path.join(dirname, filename))\n",
    "\n",
    "# You can write up to 20GB to the current directory (/kaggle/working/) that gets preserved as output when you create a version using \"Save & Run All\" \n",
    "# You can also write temporary files to /kaggle/temp/, but they won't be saved outside of the current session"
   ]
  },
  {
   "cell_type": "markdown",
   "id": "064344b4",
   "metadata": {
    "papermill": {
     "duration": 0.001849,
     "end_time": "2025-08-06T16:54:59.625130",
     "exception": false,
     "start_time": "2025-08-06T16:54:59.623281",
     "status": "completed"
    },
    "tags": []
   },
   "source": [
    "# DCGAN= Deep Convolution GANs\n",
    "Upsampling convolution\n",
    "It is also called often.\n",
    "`Deconvolution or \n",
    "Fractionally strided convolution or\n",
    "Upconvolution`"
   ]
  },
  {
   "cell_type": "markdown",
   "id": "37a4a683",
   "metadata": {
    "papermill": {
     "duration": 0.001756,
     "end_time": "2025-08-06T16:54:59.628938",
     "exception": false,
     "start_time": "2025-08-06T16:54:59.627182",
     "status": "completed"
    },
    "tags": []
   },
   "source": [
    "# Output Size= (I-1)*S-2P+K\n",
    "I=Input size\n",
    "S=Stride\n",
    "P=Padding\n",
    "K=Kernel\n"
   ]
  },
  {
   "cell_type": "code",
   "execution_count": 2,
   "id": "21db7b7b",
   "metadata": {
    "execution": {
     "iopub.execute_input": "2025-08-06T16:54:59.634508Z",
     "iopub.status.busy": "2025-08-06T16:54:59.633781Z",
     "iopub.status.idle": "2025-08-06T16:55:04.772141Z",
     "shell.execute_reply": "2025-08-06T16:55:04.771219Z"
    },
    "papermill": {
     "duration": 5.142804,
     "end_time": "2025-08-06T16:55:04.773687",
     "exception": false,
     "start_time": "2025-08-06T16:54:59.630883",
     "status": "completed"
    },
    "tags": []
   },
   "outputs": [
    {
     "data": {
      "text/plain": [
       "torch.Size([1, 10, 7, 7])"
      ]
     },
     "execution_count": 2,
     "metadata": {},
     "output_type": "execute_result"
    }
   ],
   "source": [
    "import torch\n",
    "import torch.nn as nn\n",
    "\n",
    "input=torch.randn(1,1,6,6)\n",
    "input\n",
    "\n",
    "model=nn.Sequential(\n",
    "    nn.Conv2d(in_channels=1,\n",
    "             out_channels=10,\n",
    "             kernel_size=2,\n",
    "             padding=1,\n",
    "             stride=1,\n",
    "             bias=True),\n",
    "    nn.LeakyReLU(0.3),\n",
    "    nn.BatchNorm2d(10),\n",
    "    nn.Dropout(0.3),\n",
    "    nn.Tanh()\n",
    "    \n",
    ")\n",
    "\n",
    "output=model(input)\n",
    "output.shape\n",
    "# output"
   ]
  },
  {
   "cell_type": "code",
   "execution_count": 3,
   "id": "d8903e86",
   "metadata": {
    "execution": {
     "iopub.execute_input": "2025-08-06T16:55:04.779956Z",
     "iopub.status.busy": "2025-08-06T16:55:04.779434Z",
     "iopub.status.idle": "2025-08-06T16:55:04.826342Z",
     "shell.execute_reply": "2025-08-06T16:55:04.825529Z"
    },
    "papermill": {
     "duration": 0.051612,
     "end_time": "2025-08-06T16:55:04.827755",
     "exception": false,
     "start_time": "2025-08-06T16:55:04.776143",
     "status": "completed"
    },
    "tags": []
   },
   "outputs": [
    {
     "data": {
      "text/plain": [
       "tensor([[[[-0.7836, -0.6287,  0.9983,  1.0000,  0.9323, -0.0000, -0.3069],\n",
       "          [-0.8856,  0.0000,  0.9573, -0.0000, -0.5525, -0.5878, -0.4065],\n",
       "          [ 0.7841, -0.5594, -0.7486,  0.4316, -0.0000, -0.8467, -0.9640],\n",
       "          [ 0.9356,  0.9553,  0.3579, -0.4678, -0.0000, -0.6939,  0.0000],\n",
       "          [-0.6782,  0.0000, -0.6991, -0.0000, -0.0000, -0.0000, -0.8023],\n",
       "          [-0.0000, -0.0000, -0.7164, -0.8577,  0.2529,  0.0000, -0.1342],\n",
       "          [-0.0000, -0.6964, -0.0000,  0.4933, -0.0000,  0.8302,  0.4007]]]],\n",
       "       grad_fn=<TanhBackward0>)"
      ]
     },
     "execution_count": 3,
     "metadata": {},
     "output_type": "execute_result"
    }
   ],
   "source": [
    "import torch \n",
    "import torch.nn as nn\n",
    "\n",
    "input= torch.randn(1,3,8,8)\n",
    "input\n",
    "\n",
    "model=nn.Sequential(\n",
    "    nn.ConvTranspose2d(\n",
    "        in_channels=3,\n",
    "        out_channels=1,\n",
    "        kernel_size=2,\n",
    "             padding=1,\n",
    "             stride=1,\n",
    "             bias=True\n",
    "        \n",
    "    ),\n",
    "    nn.LeakyReLU(0.3),\n",
    "    nn.BatchNorm2d(1),\n",
    "    nn.Dropout(0.3),\n",
    "    nn.Tanh()\n",
    ")\n",
    "\n",
    "output=model(input)\n",
    "output.shape\n",
    "\n",
    "output\n"
   ]
  },
  {
   "cell_type": "markdown",
   "id": "f5be33cb",
   "metadata": {
    "papermill": {
     "duration": 0.002138,
     "end_time": "2025-08-06T16:55:04.832416",
     "exception": false,
     "start_time": "2025-08-06T16:55:04.830278",
     "status": "completed"
    },
    "tags": []
   },
   "source": [
    "# f(x)=x if x≥0\n",
    "#      αx if x<0"
   ]
  },
  {
   "cell_type": "code",
   "execution_count": 4,
   "id": "3b4bb2d3",
   "metadata": {
    "execution": {
     "iopub.execute_input": "2025-08-06T16:55:04.838350Z",
     "iopub.status.busy": "2025-08-06T16:55:04.838039Z",
     "iopub.status.idle": "2025-08-06T16:55:23.145331Z",
     "shell.execute_reply": "2025-08-06T16:55:23.144432Z"
    },
    "papermill": {
     "duration": 18.312224,
     "end_time": "2025-08-06T16:55:23.146991",
     "exception": false,
     "start_time": "2025-08-06T16:55:04.834767",
     "status": "completed"
    },
    "tags": []
   },
   "outputs": [
    {
     "name": "stderr",
     "output_type": "stream",
     "text": [
      "100%|██████████| 170M/170M [00:08<00:00, 20.9MB/s]\n"
     ]
    }
   ],
   "source": [
    "import torch\n",
    "import torch.nn as nn\n",
    "import torchvision\n",
    "import torchvision.transforms as transforms\n",
    "from torchvision.utils import make_grid, save_image\n",
    "import matplotlib.pyplot as plt\n",
    "import os\n",
    "\n",
    "latent_dim = 100\n",
    "img_size = 32\n",
    "channels = 3\n",
    "batch_size = 128\n",
    "device = torch.device(\"cuda\" if torch.cuda.is_available() else \"cpu\")\n",
    "epochs = 50\n",
    "lr = 0.0002\n",
    "beta1 = 0.5\n",
    "\n",
    "os.makedirs(\"dcgan_cifar10_output\", exist_ok=True)\n",
    "\n",
    "transform = transforms.Compose([\n",
    "    transforms.Resize(img_size),\n",
    "    transforms.ToTensor(),\n",
    "    transforms.Normalize([0.5]*3, [0.5]*3)  # Pixel: [-1, 1]\n",
    "])\n",
    "\n",
    "dataloader = torch.utils.data.DataLoader(\n",
    "    torchvision.datasets.CIFAR10(root=\"./data\", download=True, transform=transform),\n",
    "    batch_size=batch_size,\n",
    "    shuffle=True\n",
    ")\n"
   ]
  },
  {
   "cell_type": "code",
   "execution_count": null,
   "id": "f88e2569",
   "metadata": {
    "papermill": {
     "duration": 0.00573,
     "end_time": "2025-08-06T16:55:23.159269",
     "exception": false,
     "start_time": "2025-08-06T16:55:23.153539",
     "status": "completed"
    },
    "tags": []
   },
   "outputs": [],
   "source": []
  }
 ],
 "metadata": {
  "kaggle": {
   "accelerator": "none",
   "dataSources": [],
   "dockerImageVersionId": 31089,
   "isGpuEnabled": false,
   "isInternetEnabled": true,
   "language": "python",
   "sourceType": "notebook"
  },
  "kernelspec": {
   "display_name": "Python 3",
   "language": "python",
   "name": "python3"
  },
  "language_info": {
   "codemirror_mode": {
    "name": "ipython",
    "version": 3
   },
   "file_extension": ".py",
   "mimetype": "text/x-python",
   "name": "python",
   "nbconvert_exporter": "python",
   "pygments_lexer": "ipython3",
   "version": "3.11.13"
  },
  "papermill": {
   "default_parameters": {},
   "duration": 32.05784,
   "end_time": "2025-08-06T16:55:25.090540",
   "environment_variables": {},
   "exception": null,
   "input_path": "__notebook__.ipynb",
   "output_path": "__notebook__.ipynb",
   "parameters": {},
   "start_time": "2025-08-06T16:54:53.032700",
   "version": "2.6.0"
  }
 },
 "nbformat": 4,
 "nbformat_minor": 5
}
