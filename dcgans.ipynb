{
 "cells": [
  {
   "cell_type": "code",
   "execution_count": 1,
   "id": "8351977c",
   "metadata": {
    "_cell_guid": "b1076dfc-b9ad-4769-8c92-a6c4dae69d19",
    "_uuid": "8f2839f25d086af736a60e9eeb907d3b93b6e0e5",
    "execution": {
     "iopub.execute_input": "2025-08-06T16:16:21.588402Z",
     "iopub.status.busy": "2025-08-06T16:16:21.587860Z",
     "iopub.status.idle": "2025-08-06T16:16:24.234809Z",
     "shell.execute_reply": "2025-08-06T16:16:24.233483Z"
    },
    "papermill": {
     "duration": 2.654672,
     "end_time": "2025-08-06T16:16:24.237651",
     "exception": false,
     "start_time": "2025-08-06T16:16:21.582979",
     "status": "completed"
    },
    "tags": []
   },
   "outputs": [],
   "source": [
    "# This Python 3 environment comes with many helpful analytics libraries installed\n",
    "# It is defined by the kaggle/python Docker image: https://github.com/kaggle/docker-python\n",
    "# For example, here's several helpful packages to load\n",
    "\n",
    "import numpy as np # linear algebra\n",
    "import pandas as pd # data processing, CSV file I/O (e.g. pd.read_csv)\n",
    "\n",
    "# Input data files are available in the read-only \"../input/\" directory\n",
    "# For example, running this (by clicking run or pressing Shift+Enter) will list all files under the input directory\n",
    "\n",
    "import os\n",
    "for dirname, _, filenames in os.walk('/kaggle/input'):\n",
    "    for filename in filenames:\n",
    "        print(os.path.join(dirname, filename))\n",
    "\n",
    "# You can write up to 20GB to the current directory (/kaggle/working/) that gets preserved as output when you create a version using \"Save & Run All\" \n",
    "# You can also write temporary files to /kaggle/temp/, but they won't be saved outside of the current session"
   ]
  },
  {
   "cell_type": "markdown",
   "id": "d705669b",
   "metadata": {
    "papermill": {
     "duration": 0.00296,
     "end_time": "2025-08-06T16:16:24.245656",
     "exception": false,
     "start_time": "2025-08-06T16:16:24.242696",
     "status": "completed"
    },
    "tags": []
   },
   "source": [
    "# DCGAN= Deep Convolution GANs\n",
    "Upsampling convolution\n",
    "It is also called often.\n",
    "`Deconvolution or \n",
    "Fractionally strided convolution or\n",
    "Upconvolution`"
   ]
  },
  {
   "cell_type": "markdown",
   "id": "f876fdb2",
   "metadata": {
    "papermill": {
     "duration": 0.003351,
     "end_time": "2025-08-06T16:16:24.253902",
     "exception": false,
     "start_time": "2025-08-06T16:16:24.250551",
     "status": "completed"
    },
    "tags": []
   },
   "source": [
    "# Output Size= (I-1)*S-2P+K\n",
    "I=Input size\n",
    "S=Stride\n",
    "P=Padding\n",
    "K=Kernel\n"
   ]
  },
  {
   "cell_type": "code",
   "execution_count": 2,
   "id": "295d29be",
   "metadata": {
    "execution": {
     "iopub.execute_input": "2025-08-06T16:16:24.263268Z",
     "iopub.status.busy": "2025-08-06T16:16:24.262768Z",
     "iopub.status.idle": "2025-08-06T16:16:31.132237Z",
     "shell.execute_reply": "2025-08-06T16:16:31.130737Z"
    },
    "papermill": {
     "duration": 6.876465,
     "end_time": "2025-08-06T16:16:31.134081",
     "exception": false,
     "start_time": "2025-08-06T16:16:24.257616",
     "status": "completed"
    },
    "tags": []
   },
   "outputs": [
    {
     "data": {
      "text/plain": [
       "torch.Size([1, 10, 7, 7])"
      ]
     },
     "execution_count": 2,
     "metadata": {},
     "output_type": "execute_result"
    }
   ],
   "source": [
    "import torch\n",
    "import torch.nn as nn\n",
    "\n",
    "input=torch.randn(1,1,6,6)\n",
    "input\n",
    "\n",
    "model=nn.Sequential(\n",
    "    nn.Conv2d(in_channels=1,\n",
    "             out_channels=10,\n",
    "             kernel_size=2,\n",
    "             padding=1,\n",
    "             stride=1,\n",
    "             bias=True),\n",
    "    nn.LeakyReLU(0.3),\n",
    "    nn.BatchNorm2d(10),\n",
    "    nn.Dropout(0.3),\n",
    "    nn.Tanh()\n",
    "    \n",
    ")\n",
    "\n",
    "output=model(input)\n",
    "output.shape\n",
    "# output"
   ]
  },
  {
   "cell_type": "code",
   "execution_count": 3,
   "id": "ce3b9dfe",
   "metadata": {
    "execution": {
     "iopub.execute_input": "2025-08-06T16:16:31.140789Z",
     "iopub.status.busy": "2025-08-06T16:16:31.140256Z",
     "iopub.status.idle": "2025-08-06T16:16:31.159660Z",
     "shell.execute_reply": "2025-08-06T16:16:31.158190Z"
    },
    "papermill": {
     "duration": 0.025064,
     "end_time": "2025-08-06T16:16:31.161567",
     "exception": false,
     "start_time": "2025-08-06T16:16:31.136503",
     "status": "completed"
    },
    "tags": []
   },
   "outputs": [
    {
     "data": {
      "text/plain": [
       "torch.Size([1, 1, 7, 7])"
      ]
     },
     "execution_count": 3,
     "metadata": {},
     "output_type": "execute_result"
    }
   ],
   "source": [
    "import torch \n",
    "import torch.nn as nn\n",
    "\n",
    "input= torch.randn(1,3,8,8)\n",
    "input\n",
    "\n",
    "model=nn.Sequential(\n",
    "    nn.ConvTranspose2d(\n",
    "        in_channels=3,\n",
    "        out_channels=1,\n",
    "        kernel_size=2,\n",
    "             padding=1,\n",
    "             stride=1,\n",
    "             bias=True\n",
    "        \n",
    "    )\n",
    ")\n",
    "\n",
    "output=model(input)\n",
    "output.shape\n",
    "\n"
   ]
  }
 ],
 "metadata": {
  "kaggle": {
   "accelerator": "none",
   "dataSources": [],
   "dockerImageVersionId": 31089,
   "isGpuEnabled": false,
   "isInternetEnabled": true,
   "language": "python",
   "sourceType": "notebook"
  },
  "kernelspec": {
   "display_name": "Python 3",
   "language": "python",
   "name": "python3"
  },
  "language_info": {
   "codemirror_mode": {
    "name": "ipython",
    "version": 3
   },
   "file_extension": ".py",
   "mimetype": "text/x-python",
   "name": "python",
   "nbconvert_exporter": "python",
   "pygments_lexer": "ipython3",
   "version": "3.11.13"
  },
  "papermill": {
   "default_parameters": {},
   "duration": 19.734902,
   "end_time": "2025-08-06T16:16:33.785229",
   "environment_variables": {},
   "exception": null,
   "input_path": "__notebook__.ipynb",
   "output_path": "__notebook__.ipynb",
   "parameters": {},
   "start_time": "2025-08-06T16:16:14.050327",
   "version": "2.6.0"
  }
 },
 "nbformat": 4,
 "nbformat_minor": 5
}
