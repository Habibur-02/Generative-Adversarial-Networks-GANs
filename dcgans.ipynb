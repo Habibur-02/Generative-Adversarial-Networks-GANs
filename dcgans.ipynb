{
 "cells": [
  {
   "cell_type": "code",
   "execution_count": 1,
   "id": "55dc670c",
   "metadata": {
    "_cell_guid": "b1076dfc-b9ad-4769-8c92-a6c4dae69d19",
    "_uuid": "8f2839f25d086af736a60e9eeb907d3b93b6e0e5",
    "execution": {
     "iopub.execute_input": "2025-08-06T16:21:19.132832Z",
     "iopub.status.busy": "2025-08-06T16:21:19.132401Z",
     "iopub.status.idle": "2025-08-06T16:21:21.787982Z",
     "shell.execute_reply": "2025-08-06T16:21:21.786701Z"
    },
    "papermill": {
     "duration": 2.662348,
     "end_time": "2025-08-06T16:21:21.790208",
     "exception": false,
     "start_time": "2025-08-06T16:21:19.127860",
     "status": "completed"
    },
    "tags": []
   },
   "outputs": [],
   "source": [
    "# This Python 3 environment comes with many helpful analytics libraries installed\n",
    "# It is defined by the kaggle/python Docker image: https://github.com/kaggle/docker-python\n",
    "# For example, here's several helpful packages to load\n",
    "\n",
    "import numpy as np # linear algebra\n",
    "import pandas as pd # data processing, CSV file I/O (e.g. pd.read_csv)\n",
    "\n",
    "# Input data files are available in the read-only \"../input/\" directory\n",
    "# For example, running this (by clicking run or pressing Shift+Enter) will list all files under the input directory\n",
    "\n",
    "import os\n",
    "for dirname, _, filenames in os.walk('/kaggle/input'):\n",
    "    for filename in filenames:\n",
    "        print(os.path.join(dirname, filename))\n",
    "\n",
    "# You can write up to 20GB to the current directory (/kaggle/working/) that gets preserved as output when you create a version using \"Save & Run All\" \n",
    "# You can also write temporary files to /kaggle/temp/, but they won't be saved outside of the current session"
   ]
  },
  {
   "cell_type": "markdown",
   "id": "9aa6d8b1",
   "metadata": {
    "papermill": {
     "duration": 0.003376,
     "end_time": "2025-08-06T16:21:21.799088",
     "exception": false,
     "start_time": "2025-08-06T16:21:21.795712",
     "status": "completed"
    },
    "tags": []
   },
   "source": [
    "# DCGAN= Deep Convolution GANs\n",
    "Upsampling convolution\n",
    "It is also called often.\n",
    "`Deconvolution or \n",
    "Fractionally strided convolution or\n",
    "Upconvolution`"
   ]
  },
  {
   "cell_type": "markdown",
   "id": "684df4b2",
   "metadata": {
    "papermill": {
     "duration": 0.003492,
     "end_time": "2025-08-06T16:21:21.806365",
     "exception": false,
     "start_time": "2025-08-06T16:21:21.802873",
     "status": "completed"
    },
    "tags": []
   },
   "source": [
    "# Output Size= (I-1)*S-2P+K\n",
    "I=Input size\n",
    "S=Stride\n",
    "P=Padding\n",
    "K=Kernel\n"
   ]
  },
  {
   "cell_type": "code",
   "execution_count": 2,
   "id": "d16b18fa",
   "metadata": {
    "execution": {
     "iopub.execute_input": "2025-08-06T16:21:21.813817Z",
     "iopub.status.busy": "2025-08-06T16:21:21.813112Z",
     "iopub.status.idle": "2025-08-06T16:21:29.780274Z",
     "shell.execute_reply": "2025-08-06T16:21:29.779360Z"
    },
    "papermill": {
     "duration": 7.972627,
     "end_time": "2025-08-06T16:21:29.781973",
     "exception": false,
     "start_time": "2025-08-06T16:21:21.809346",
     "status": "completed"
    },
    "tags": []
   },
   "outputs": [
    {
     "data": {
      "text/plain": [
       "torch.Size([1, 10, 7, 7])"
      ]
     },
     "execution_count": 2,
     "metadata": {},
     "output_type": "execute_result"
    }
   ],
   "source": [
    "import torch\n",
    "import torch.nn as nn\n",
    "\n",
    "input=torch.randn(1,1,6,6)\n",
    "input\n",
    "\n",
    "model=nn.Sequential(\n",
    "    nn.Conv2d(in_channels=1,\n",
    "             out_channels=10,\n",
    "             kernel_size=2,\n",
    "             padding=1,\n",
    "             stride=1,\n",
    "             bias=True),\n",
    "    nn.LeakyReLU(0.3),\n",
    "    nn.BatchNorm2d(10),\n",
    "    nn.Dropout(0.3),\n",
    "    nn.Tanh()\n",
    "    \n",
    ")\n",
    "\n",
    "output=model(input)\n",
    "output.shape\n",
    "# output"
   ]
  },
  {
   "cell_type": "code",
   "execution_count": 3,
   "id": "5e3a2781",
   "metadata": {
    "execution": {
     "iopub.execute_input": "2025-08-06T16:21:29.788017Z",
     "iopub.status.busy": "2025-08-06T16:21:29.787541Z",
     "iopub.status.idle": "2025-08-06T16:21:29.812448Z",
     "shell.execute_reply": "2025-08-06T16:21:29.811194Z"
    },
    "papermill": {
     "duration": 0.029936,
     "end_time": "2025-08-06T16:21:29.814207",
     "exception": false,
     "start_time": "2025-08-06T16:21:29.784271",
     "status": "completed"
    },
    "tags": []
   },
   "outputs": [
    {
     "data": {
      "text/plain": [
       "torch.Size([1, 1, 7, 7])"
      ]
     },
     "execution_count": 3,
     "metadata": {},
     "output_type": "execute_result"
    }
   ],
   "source": [
    "import torch \n",
    "import torch.nn as nn\n",
    "\n",
    "input= torch.randn(1,3,8,8)\n",
    "input\n",
    "\n",
    "model=nn.Sequential(\n",
    "    nn.ConvTranspose2d(\n",
    "        in_channels=3,\n",
    "        out_channels=1,\n",
    "        kernel_size=2,\n",
    "             padding=1,\n",
    "             stride=1,\n",
    "             bias=True\n",
    "        \n",
    "    ),\n",
    "    nn.LeakyReLU(0.3),\n",
    "    nn.BatchNorm2d(1),\n",
    "    nn.Dropout(0.3),\n",
    "    nn.Tanh()\n",
    ")\n",
    "\n",
    "output=model(input)\n",
    "output.shape\n",
    "\n"
   ]
  },
  {
   "cell_type": "markdown",
   "id": "94517038",
   "metadata": {
    "papermill": {
     "duration": 0.002052,
     "end_time": "2025-08-06T16:21:29.819049",
     "exception": false,
     "start_time": "2025-08-06T16:21:29.816997",
     "status": "completed"
    },
    "tags": []
   },
   "source": [
    "# f(x)=x if x≥0\n",
    "#      αx if x<0"
   ]
  },
  {
   "cell_type": "code",
   "execution_count": null,
   "id": "3f49d3af",
   "metadata": {
    "papermill": {
     "duration": 0.002322,
     "end_time": "2025-08-06T16:21:29.823678",
     "exception": false,
     "start_time": "2025-08-06T16:21:29.821356",
     "status": "completed"
    },
    "tags": []
   },
   "outputs": [],
   "source": []
  }
 ],
 "metadata": {
  "kaggle": {
   "accelerator": "none",
   "dataSources": [],
   "dockerImageVersionId": 31089,
   "isGpuEnabled": false,
   "isInternetEnabled": true,
   "language": "python",
   "sourceType": "notebook"
  },
  "kernelspec": {
   "display_name": "Python 3",
   "language": "python",
   "name": "python3"
  },
  "language_info": {
   "codemirror_mode": {
    "name": "ipython",
    "version": 3
   },
   "file_extension": ".py",
   "mimetype": "text/x-python",
   "name": "python",
   "nbconvert_exporter": "python",
   "pygments_lexer": "ipython3",
   "version": "3.11.13"
  },
  "papermill": {
   "default_parameters": {},
   "duration": 19.444901,
   "end_time": "2025-08-06T16:21:32.587774",
   "environment_variables": {},
   "exception": null,
   "input_path": "__notebook__.ipynb",
   "output_path": "__notebook__.ipynb",
   "parameters": {},
   "start_time": "2025-08-06T16:21:13.142873",
   "version": "2.6.0"
  }
 },
 "nbformat": 4,
 "nbformat_minor": 5
}
