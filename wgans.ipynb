{
 "cells": [
  {
   "cell_type": "code",
   "execution_count": 1,
   "id": "5f48a01b",
   "metadata": {
    "_cell_guid": "b1076dfc-b9ad-4769-8c92-a6c4dae69d19",
    "_uuid": "8f2839f25d086af736a60e9eeb907d3b93b6e0e5",
    "execution": {
     "iopub.execute_input": "2025-08-22T18:31:58.228624Z",
     "iopub.status.busy": "2025-08-22T18:31:58.228229Z",
     "iopub.status.idle": "2025-08-22T18:31:59.961201Z",
     "shell.execute_reply": "2025-08-22T18:31:59.960457Z"
    },
    "papermill": {
     "duration": 1.738843,
     "end_time": "2025-08-22T18:31:59.962837",
     "exception": false,
     "start_time": "2025-08-22T18:31:58.223994",
     "status": "completed"
    },
    "tags": []
   },
   "outputs": [],
   "source": [
    "# This Python 3 environment comes with many helpful analytics libraries installed\n",
    "# It is defined by the kaggle/python Docker image: https://github.com/kaggle/docker-python\n",
    "# For example, here's several helpful packages to load\n",
    "\n",
    "import numpy as np # linear algebra\n",
    "import pandas as pd # data processing, CSV file I/O (e.g. pd.read_csv)\n",
    "\n",
    "# Input data files are available in the read-only \"../input/\" directory\n",
    "# For example, running this (by clicking run or pressing Shift+Enter) will list all files under the input directory\n",
    "\n",
    "import os\n",
    "for dirname, _, filenames in os.walk('/kaggle/input'):\n",
    "    for filename in filenames:\n",
    "        print(os.path.join(dirname, filename))\n",
    "\n",
    "# You can write up to 20GB to the current directory (/kaggle/working/) that gets preserved as output when you create a version using \"Save & Run All\" \n",
    "# You can also write temporary files to /kaggle/temp/, but they won't be saved outside of the current session"
   ]
  },
  {
   "cell_type": "code",
   "execution_count": 2,
   "id": "4e9e9390",
   "metadata": {
    "execution": {
     "iopub.execute_input": "2025-08-22T18:31:59.968304Z",
     "iopub.status.busy": "2025-08-22T18:31:59.967900Z",
     "iopub.status.idle": "2025-08-22T18:32:15.946039Z",
     "shell.execute_reply": "2025-08-22T18:32:15.945056Z"
    },
    "papermill": {
     "duration": 15.982379,
     "end_time": "2025-08-22T18:32:15.947651",
     "exception": false,
     "start_time": "2025-08-22T18:31:59.965272",
     "status": "completed"
    },
    "tags": []
   },
   "outputs": [
    {
     "name": "stderr",
     "output_type": "stream",
     "text": [
      "100%|██████████| 9.91M/9.91M [00:00<00:00, 11.5MB/s]\n",
      "100%|██████████| 28.9k/28.9k [00:00<00:00, 334kB/s]\n",
      "100%|██████████| 1.65M/1.65M [00:00<00:00, 3.18MB/s]\n",
      "100%|██████████| 4.54k/4.54k [00:00<00:00, 5.66MB/s]\n"
     ]
    }
   ],
   "source": [
    "import torch\n",
    "import torch.nn as nn\n",
    "import torch.optim as optim\n",
    "from torchvision import datasets, transforms\n",
    "from torch.utils.data import DataLoader\n",
    "from torchvision.utils import save_image\n",
    "import os\n",
    "\n",
    "#  Hyperparameters \n",
    "latent_dim = 100\n",
    "img_size = 28\n",
    "channels = 1\n",
    "batch_size = 64\n",
    "lr = 0.00005  # lower lr for WGAN\n",
    "epochs = 5\n",
    "clip_value = 0.01  # weight clipping\n",
    "n_critic = 5       # train critic more\n",
    "device = torch.device(\"cuda\" if torch.cuda.is_available() else \"cpu\")\n",
    "device\n",
    "\n",
    "os.makedirs(\"wgan_images\", exist_ok=True)\n",
    "transform = transforms.Compose([\n",
    "    transforms.ToTensor(),\n",
    "    transforms.Normalize([0.5], [0.5])\n",
    "])\n",
    "dataloader = DataLoader(\n",
    "    datasets.MNIST(\"./data\", train=True, download=True, transform=transform),\n",
    "    batch_size=batch_size,\n",
    "    shuffle=True\n",
    ")\n",
    "\n",
    "\n"
   ]
  },
  {
   "cell_type": "code",
   "execution_count": 3,
   "id": "5e69cef5",
   "metadata": {
    "execution": {
     "iopub.execute_input": "2025-08-22T18:32:15.956460Z",
     "iopub.status.busy": "2025-08-22T18:32:15.956032Z",
     "iopub.status.idle": "2025-08-22T18:32:15.961736Z",
     "shell.execute_reply": "2025-08-22T18:32:15.960943Z"
    },
    "papermill": {
     "duration": 0.011591,
     "end_time": "2025-08-22T18:32:15.963137",
     "exception": false,
     "start_time": "2025-08-22T18:32:15.951546",
     "status": "completed"
    },
    "tags": []
   },
   "outputs": [],
   "source": [
    "class Generator(nn.Module):\n",
    "    def __init__(self):\n",
    "        super().__init__()\n",
    "        self.model = nn.Sequential(\n",
    "            nn.Linear(latent_dim, 128),\n",
    "            nn.ReLU(),\n",
    "            nn.Linear(128, 256),\n",
    "            nn.BatchNorm1d(256),\n",
    "            nn.ReLU(),\n",
    "            nn.Linear(256, channels * img_size * img_size),\n",
    "            nn.Tanh()\n",
    "        )\n",
    "\n",
    "    def forward(self, z):\n",
    "        img = self.model(z)\n",
    "        return img.view(z.size(0), channels, img_size, img_size)"
   ]
  },
  {
   "cell_type": "code",
   "execution_count": 4,
   "id": "82cc5553",
   "metadata": {
    "execution": {
     "iopub.execute_input": "2025-08-22T18:32:15.970066Z",
     "iopub.status.busy": "2025-08-22T18:32:15.969779Z",
     "iopub.status.idle": "2025-08-22T18:32:15.975075Z",
     "shell.execute_reply": "2025-08-22T18:32:15.974403Z"
    },
    "papermill": {
     "duration": 0.010564,
     "end_time": "2025-08-22T18:32:15.976626",
     "exception": false,
     "start_time": "2025-08-22T18:32:15.966062",
     "status": "completed"
    },
    "tags": []
   },
   "outputs": [],
   "source": [
    "class Critic(nn.Module):\n",
    "    def __init__(self):\n",
    "        super().__init__()\n",
    "        self.model = nn.Sequential(\n",
    "            nn.Linear(channels * img_size * img_size, 256),\n",
    "            nn.LeakyReLU(0.2),\n",
    "            nn.Linear(256, 128),\n",
    "            nn.LeakyReLU(0.2),\n",
    "            nn.Linear(128, 1)  # no sigmoid\n",
    "        )\n",
    "\n",
    "    def forward(self, img):\n",
    "        return self.model(img.view(img.size(0), -1))"
   ]
  },
  {
   "cell_type": "code",
   "execution_count": 5,
   "id": "93a0c21d",
   "metadata": {
    "execution": {
     "iopub.execute_input": "2025-08-22T18:32:15.984183Z",
     "iopub.status.busy": "2025-08-22T18:32:15.983902Z",
     "iopub.status.idle": "2025-08-22T18:32:16.006141Z",
     "shell.execute_reply": "2025-08-22T18:32:16.005324Z"
    },
    "papermill": {
     "duration": 0.027232,
     "end_time": "2025-08-22T18:32:16.007661",
     "exception": false,
     "start_time": "2025-08-22T18:32:15.980429",
     "status": "completed"
    },
    "tags": []
   },
   "outputs": [
    {
     "data": {
      "text/plain": [
       "Critic(\n",
       "  (model): Sequential(\n",
       "    (0): Linear(in_features=784, out_features=256, bias=True)\n",
       "    (1): LeakyReLU(negative_slope=0.2)\n",
       "    (2): Linear(in_features=256, out_features=128, bias=True)\n",
       "    (3): LeakyReLU(negative_slope=0.2)\n",
       "    (4): Linear(in_features=128, out_features=1, bias=True)\n",
       "  )\n",
       ")"
      ]
     },
     "execution_count": 5,
     "metadata": {},
     "output_type": "execute_result"
    }
   ],
   "source": [
    "generator = Generator().to(device)\n",
    "critic = Critic().to(device)\n",
    "\n",
    "optimizer_G = optim.RMSprop(generator.parameters(), lr=lr)\n",
    "optimizer_C = optim.RMSprop(critic.parameters(), lr=lr)\n",
    "generator\n",
    "critic"
   ]
  },
  {
   "cell_type": "code",
   "execution_count": 6,
   "id": "12f1a2a7",
   "metadata": {
    "execution": {
     "iopub.execute_input": "2025-08-22T18:32:16.015048Z",
     "iopub.status.busy": "2025-08-22T18:32:16.014206Z",
     "iopub.status.idle": "2025-08-22T18:32:53.641029Z",
     "shell.execute_reply": "2025-08-22T18:32:53.640327Z"
    },
    "papermill": {
     "duration": 37.631925,
     "end_time": "2025-08-22T18:32:53.642669",
     "exception": false,
     "start_time": "2025-08-22T18:32:16.010744",
     "status": "completed"
    },
    "tags": []
   },
   "outputs": [
    {
     "name": "stdout",
     "output_type": "stream",
     "text": [
      "[Epoch 0/1] [Batch 0/938] [D loss: -0.0121] [G loss: -0.0086]\n",
      "[Epoch 0/1] [Batch 200/938] [D loss: -0.2752] [G loss: -3.9592]\n",
      "[Epoch 0/1] [Batch 400/938] [D loss: -0.0728] [G loss: -3.7113]\n",
      "[Epoch 0/1] [Batch 600/938] [D loss: -0.0363] [G loss: -3.3569]\n",
      "[Epoch 0/1] [Batch 800/938] [D loss: -0.0242] [G loss: -3.0211]\n"
     ]
    }
   ],
   "source": [
    "epochs=1\n",
    "for epoch in range(epochs):\n",
    "    for i, (imgs, _) in enumerate(dataloader):\n",
    "\n",
    "        # Real images\n",
    "        real_imgs = imgs.to(device)\n",
    "\n",
    "        # Train Critic\n",
    "        for _ in range(n_critic):\n",
    "            z = torch.randn(imgs.size(0), latent_dim).to(device)\n",
    "            fake_imgs = generator(z).detach()\n",
    "\n",
    "            loss_C = -torch.mean(critic(real_imgs)) + torch.mean(critic(fake_imgs))\n",
    "\n",
    "            optimizer_C.zero_grad()\n",
    "            loss_C.backward()\n",
    "            optimizer_C.step()\n",
    "\n",
    "            # weight clipping\n",
    "            for p in critic.parameters():\n",
    "                p.data.clamp_(-clip_value, clip_value)\n",
    "\n",
    "        #Train Generator\n",
    "        z = torch.randn(imgs.size(0), latent_dim).to(device)\n",
    "        gen_imgs = generator(z)\n",
    "        loss_G = -torch.mean(critic(gen_imgs))\n",
    "\n",
    "        optimizer_G.zero_grad()\n",
    "        loss_G.backward()\n",
    "        optimizer_G.step()\n",
    "\n",
    "        # Print log\n",
    "        if i % 200 == 0:\n",
    "            print(f\"[Epoch {epoch}/{epochs}] [Batch {i}/{len(dataloader)}] \"\n",
    "                  f\"[D loss: {loss_C.item():.4f}] [G loss: {loss_G.item():.4f}]\")\n",
    "\n",
    "    save_image(gen_imgs[:25], f\"wgan_images/{epoch}.png\", nrow=5, normalize=True)"
   ]
  }
 ],
 "metadata": {
  "kaggle": {
   "accelerator": "none",
   "dataSources": [],
   "dockerImageVersionId": 31089,
   "isGpuEnabled": false,
   "isInternetEnabled": true,
   "language": "python",
   "sourceType": "notebook"
  },
  "kernelspec": {
   "display_name": "Python 3",
   "language": "python",
   "name": "python3"
  },
  "language_info": {
   "codemirror_mode": {
    "name": "ipython",
    "version": 3
   },
   "file_extension": ".py",
   "mimetype": "text/x-python",
   "name": "python",
   "nbconvert_exporter": "python",
   "pygments_lexer": "ipython3",
   "version": "3.11.13"
  },
  "papermill": {
   "default_parameters": {},
   "duration": 62.396019,
   "end_time": "2025-08-22T18:32:55.904186",
   "environment_variables": {},
   "exception": null,
   "input_path": "__notebook__.ipynb",
   "output_path": "__notebook__.ipynb",
   "parameters": {},
   "start_time": "2025-08-22T18:31:53.508167",
   "version": "2.6.0"
  }
 },
 "nbformat": 4,
 "nbformat_minor": 5
}
