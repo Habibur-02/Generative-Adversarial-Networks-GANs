{
 "cells": [
  {
   "cell_type": "code",
   "execution_count": 1,
   "id": "2153fb3d",
   "metadata": {
    "_cell_guid": "b1076dfc-b9ad-4769-8c92-a6c4dae69d19",
    "_uuid": "8f2839f25d086af736a60e9eeb907d3b93b6e0e5",
    "execution": {
     "iopub.execute_input": "2025-08-22T16:22:32.727917Z",
     "iopub.status.busy": "2025-08-22T16:22:32.727541Z",
     "iopub.status.idle": "2025-08-22T16:22:34.478331Z",
     "shell.execute_reply": "2025-08-22T16:22:34.477418Z"
    },
    "papermill": {
     "duration": 1.756022,
     "end_time": "2025-08-22T16:22:34.480159",
     "exception": false,
     "start_time": "2025-08-22T16:22:32.724137",
     "status": "completed"
    },
    "tags": []
   },
   "outputs": [],
   "source": [
    "# This Python 3 environment comes with many helpful analytics libraries installed\n",
    "# It is defined by the kaggle/python Docker image: https://github.com/kaggle/docker-python\n",
    "# For example, here's several helpful packages to load\n",
    "\n",
    "import numpy as np # linear algebra\n",
    "import pandas as pd # data processing, CSV file I/O (e.g. pd.read_csv)\n",
    "\n",
    "# Input data files are available in the read-only \"../input/\" directory\n",
    "# For example, running this (by clicking run or pressing Shift+Enter) will list all files under the input directory\n",
    "\n",
    "import os\n",
    "for dirname, _, filenames in os.walk('/kaggle/input'):\n",
    "    for filename in filenames:\n",
    "        print(os.path.join(dirname, filename))\n",
    "\n",
    "# You can write up to 20GB to the current directory (/kaggle/working/) that gets preserved as output when you create a version using \"Save & Run All\" \n",
    "# You can also write temporary files to /kaggle/temp/, but they won't be saved outside of the current session"
   ]
  },
  {
   "cell_type": "code",
   "execution_count": 2,
   "id": "06e3ec23",
   "metadata": {
    "execution": {
     "iopub.execute_input": "2025-08-22T16:22:34.484393Z",
     "iopub.status.busy": "2025-08-22T16:22:34.484011Z",
     "iopub.status.idle": "2025-08-22T16:22:44.949401Z",
     "shell.execute_reply": "2025-08-22T16:22:44.948524Z"
    },
    "papermill": {
     "duration": 10.468934,
     "end_time": "2025-08-22T16:22:44.950848",
     "exception": false,
     "start_time": "2025-08-22T16:22:34.481914",
     "status": "completed"
    },
    "tags": []
   },
   "outputs": [
    {
     "data": {
      "text/plain": [
       "device(type='cpu')"
      ]
     },
     "execution_count": 2,
     "metadata": {},
     "output_type": "execute_result"
    }
   ],
   "source": [
    "import torch\n",
    "import torch.nn as nn\n",
    "import torch.optim as optim\n",
    "from torchvision import datasets, transforms\n",
    "from torch.utils.data import DataLoader\n",
    "from torchvision.utils import save_image\n",
    "import os\n",
    "\n",
    "# ========== Hyperparameters ==========\n",
    "latent_dim = 100\n",
    "img_size = 28\n",
    "channels = 1\n",
    "batch_size = 64\n",
    "lr = 0.00005  # lower lr for WGAN\n",
    "epochs = 5\n",
    "clip_value = 0.01  # weight clipping\n",
    "n_critic = 5       # train critic more\n",
    "device = torch.device(\"cuda\" if torch.cuda.is_available() else \"cpu\")\n",
    "device"
   ]
  }
 ],
 "metadata": {
  "kaggle": {
   "accelerator": "none",
   "dataSources": [],
   "dockerImageVersionId": 31089,
   "isGpuEnabled": false,
   "isInternetEnabled": true,
   "language": "python",
   "sourceType": "notebook"
  },
  "kernelspec": {
   "display_name": "Python 3",
   "language": "python",
   "name": "python3"
  },
  "language_info": {
   "codemirror_mode": {
    "name": "ipython",
    "version": 3
   },
   "file_extension": ".py",
   "mimetype": "text/x-python",
   "name": "python",
   "nbconvert_exporter": "python",
   "pygments_lexer": "ipython3",
   "version": "3.11.13"
  },
  "papermill": {
   "default_parameters": {},
   "duration": 19.471327,
   "end_time": "2025-08-22T16:22:47.210930",
   "environment_variables": {},
   "exception": null,
   "input_path": "__notebook__.ipynb",
   "output_path": "__notebook__.ipynb",
   "parameters": {},
   "start_time": "2025-08-22T16:22:27.739603",
   "version": "2.6.0"
  }
 },
 "nbformat": 4,
 "nbformat_minor": 5
}
